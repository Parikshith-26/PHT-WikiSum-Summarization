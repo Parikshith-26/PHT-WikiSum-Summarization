{
 "nbformat": 4,
 "nbformat_minor": 0,
 "metadata": {
  "colab": {
   "provenance": [],
   "gpuType": "T4",
   "authorship_tag": "ABX9TyOQJl5CD/jT8jc5b7MA6zsx"
  },
  "kernelspec": {
   "name": "python3",
   "display_name": "Python 3"
  },
  "language_info": {
   "name": "python"
  },
  "accelerator": "GPU"
 },
 "cells": [
  {
   "cell_type": "code",
   "metadata": {
    "colab": {
     "base_uri": "https://localhost:8080/"
    },
    "id": "a131e62b",
    "executionInfo": {
     "status": "ok",
     "timestamp": 1755243769218,
     "user_tz": -330,
     "elapsed": 469,
     "user": {
      "displayName": "Keerthana K Unni",
      "userId": "08328964662187661859"
     }
    },
    "outputId": "0253a38b-32f3-4449-9c32-b60e4efc8aa6"
   },
   "source": [
    "from datasets import load_dataset\n",
    "import pandas as pd\n",
    "\n",
    "# Load the CNN/Daily Mail dataset\n",
    "dataset = load_dataset(\"cnn_dailymail\", \"3.0.0\")\n",
    "\n",
    "# Inspect the dataset structure\n",
    "print(dataset)\n",
    "print(dataset['train'][0])"
   ],
   "execution_count": 2,
   "outputs": [
    {
     "output_type": "stream",
     "name": "stdout",
     "text": [
      "DatasetDict({\n",
      "    train: Dataset({\n",
      "        features: ['article', 'highlights', 'id'],\n",
      "        num_rows: 287113\n",
      "    })\n",
      "    validation: Dataset({\n",
      "        features: ['article', 'highlights', 'id'],\n",
      "        num_rows: 13368\n",
      "    })\n",
      "    test: Dataset({\n",
      "        features: ['article', 'highlights', 'id'],\n",
      "        num_rows: 11490\n",
      "    })\n",
      "})\n",
      "{'article': 'LONDON, England (Reuters) -- Harry Potter star Daniel Radcliffe gains access to a reported £20 million ($41.1 million) fortune as he turns 18 on Monday, but he insists the money won\\'t cast a spell on him. Daniel Radcliffe as Harry Potter in \"Harry Potter and the Order of the Phoenix\" To the disappointment of gossip columnists around the world, the young actor says he has no plans to fritter his cash away on fast cars, drink and celebrity parties. \"I don\\'t plan to be one of those people who, as soon as they turn 18, suddenly buy themselves a massive sports car collection or something similar,\" he told an Australian interviewer earlier this month. \"I don\\'t think I\\'ll be particularly extravagant. \"The things I like buying are things that cost about 10 pounds -- books and CDs and DVDs.\" At 18, Radcliffe will be able to gamble in a casino, buy a drink in a pub or see the horror film \"Hostel: Part II,\" currently six places below his number one movie on the UK box office chart. Details of how he\\'ll mark his landmark birthday are under wraps. His agent and publicist had no comment on his plans. \"I\\'ll definitely have some sort of party,\" he said in an interview. \"Hopefully none of you will be reading about it.\" Radcliffe\\'s earnings from the first five Potter films have been held in a trust fund which he has not been able to touch. Despite his growing fame and riches, the actor says he is keeping his feet firmly on the ground. \"People are always looking to say \\'kid star goes off the rails,\\'\" he told reporters last month. \"But I try very hard not to go that way because it would be too easy for them.\" His latest outing as the boy wizard in \"Harry Potter and the Order of the Phoenix\" is breaking records on both sides of the Atlantic and he will reprise the role in the last two films.  Watch I-Reporter give her review of Potter\\'s latest » . There is life beyond Potter, however. The Londoner has filmed a TV movie called \"My Boy Jack,\" about author Rudyard Kipling and his son, due for release later this year. He will also appear in \"December Boys,\" an Australian film about four boys who escape an orphanage. Earlier this year, he made his stage debut playing a tortured teenager in Peter Shaffer\\'s \"Equus.\" Meanwhile, he is braced for even closer media scrutiny now that he\\'s legally an adult: \"I just think I\\'m going to be more sort of fair game,\" he told Reuters. E-mail to a friend . Copyright 2007 Reuters. All rights reserved.This material may not be published, broadcast, rewritten, or redistributed.', 'highlights': \"Harry Potter star Daniel Radcliffe gets £20M fortune as he turns 18 Monday .\\nYoung actor says he has no plans to fritter his cash away .\\nRadcliffe's earnings from first five Potter films have been held in trust fund .\", 'id': '42c027e4ff9730fbb3de84c1af0d2c506e41c3e4'}\n"
     ]
    }
   ]
  },
  {
   "cell_type": "code",
   "metadata": {
    "colab": {
     "base_uri": "https://localhost:8080/",
     "height": 246,
     "referenced_widgets": [
      "e3484462ee3f435d95ab9ba3df0af145",
      "51773c301b734b3daa94f05d8b45bed1",
      "20461961e4a147ea88612e8418fccf12",
      "144a0614ac0646f29a8f7f173e9e7adb",
      "4bd5af86d1fe44088d1521e4897176b0",
      "ee62fdde4f504182b1b251628d55c590",
      "349f70ffb2734ee19203450f14bc2a7f",
      "b8a6b45345d9467ebdeb3e60b24c557c",
      "e04715c34ee5471fbff7bac766ce5ba2",
      "8df0a4d6a9114127a1d4ea6f1a2b532f",
      "d9dc1897e67e45db80bb2c8541f93458",
      "f1aa2680263240a38e2266c62e95f4b6",
      "b8eac352f0d5421d836b9f5ef9ffe241",
      "6fd734def15f47388a4ad2961e655a5e",
      "2e425a55f74845f78754309a7be4966e",
      "fac9021abe644843a2b2d1de9ca31224",
      "43cb33c1ba114b208465658847cb347a",
      "b6a5c204082a40679b744b529d33ce33",
      "202952a10ace47e2bb0c8242bba79c2a",
      "533396738aa0431cb69a77cca58690f0",
      "04f31e0ac9b24e3db79fe20260c0735b",
      "56359a3e88fa4d8287329f8fc7e5a3f7",
      "5ad0d560dffc4c28ab8692cf2bf66ee5",
      "7942133162d64b21bec32d9300390668",
      "38f95cd4186b42efaa18a8cb2a4229de",
      "4a168e5d1c1446d389584056c00024ea",
      "7d0af96276864206a43b8101c938b756",
      "92294562363849ae817f77bb59b77f55",
      "a3afe2018ed4497f8350e624299ce191",
      "6791246ae7224a80b6ac600118bb4524",
      "000e8f44d63340119c46b9a151f6f005",
      "5da76bdca01d4c02aca56656c18b1bb1",
      "544f9622dfc947528f1c1d14da63d5d3",
      "95d435fdfd984df29f65be9238865843",
      "1fa67b98734741048d8c632480f7671f",
      "a1a70960f17745089b1b4c79c753de64",
      "33e32a3c2f194b57a38c52321cde07e1",
      "1551b49e8c4e442e8313108646fe0212",
      "eb4dfa34136f4a24843474ae45bf2b2f",
      "61782fd9ba9b493a80f5a5b818122fe3",
      "8c100ad3b37041189e0f6aba0eee1250",
      "3f9fde2f0571450ebe546c6859877732",
      "8afd9292841c438b967e13e004340465",
      "a96df8a311404bcbb887809d44be0715",
      "120cf8e6f3954aeb993e20a0da26fe25",
      "73d5f159f7f44d368e2904b31139ade5",
      "d364d1427bbb445fb01d84492e18dbe2",
      "7fa5a11757ad4d3fbda64acf943f15bf",
      "5e3da592f686441dbfaeece0823a3a48",
      "112c73e7995e4e3fb9a78e5ff5be77e9",
      "a4f181bd7c0f44129acdabe779eb3263",
      "2084207ef7774ceebad3f9f940dae030",
      "ab502c2290a94a5d9e40f2670e519268",
      "9496dcda71e1404abc979aac62c74f23",
      "8cf5df2c59d94f52965dc43150198748",
      "4f780f595e4f4e0a84aedbf867b49c03",
      "fe56ed6894154487b33d17e471cf0f27",
      "10059d28987b4081862e765be97afeb7",
      "8e2fe6fdb2e8463c9211f91b06b9d014",
      "a4670278543244fcb03757f8c7b66843",
      "b6a7301e720a4059bd057037746e20e6",
      "cab534bad0a64192bb890d3f67629433",
      "6cad10f1ae9c4301b974bf60739fcd9e",
      "7364fff7c07d4501b659a0b704d29393",
      "4ead08d3b9c043c393b8721b091c8694",
      "9f1972fae1a54d23aee9cf27d3f70265"
     ]
    },
    "id": "a5609dc2",
    "executionInfo": {
     "status": "ok",
     "timestamp": 1755244192180,
     "user_tz": -330,
     "elapsed": 204812,
     "user": {
      "displayName": "Keerthana K Unni",
      "userId": "08328964662187661859"
     }
    },
    "outputId": "171adc72-99c7-4df4-811b-25693c80c933"
   },
   "source": [
    "import re\n",
    "\n",
    "def preprocess_text(text):\n",
    "    # Remove special characters and extra whitespace\n",
    "    text = re.sub(r'\\s+', ' ', text).strip()\n",
    "    return text\n",
    "\n",
    "# Apply preprocessing to the dataset\n",
    "dataset = dataset.map(lambda examples: {'article': preprocess_text(examples['article']),\n",
    "                                         'highlights': preprocess_text(examples['highlights'])})\n",
    "\n",
    "# Format the data for a general model input structure\n",
    "# This is a basic example; specific models may require different formatting\n",
    "def format_for_model(examples):\n",
    "    return {'input_text': examples['article'], 'target_text': examples['highlights']}\n",
    "\n",
    "dataset = dataset.map(format_for_model)\n",
    "\n",
    "# Display a processed example\n",
    "print(dataset['train'][0])"
   ],
   "execution_count": 4,
   "outputs": [
    {
     "output_type": "display_data",
     "data": {
      "text/plain": [
       "Map:   0%|          | 0/287113 [00:00<?, ? examples/s]"
      ],
      "application/vnd.jupyter.widget-view+json": {
       "version_major": 2,
       "version_minor": 0,
       "model_id": "e3484462ee3f435d95ab9ba3df0af145"
      }
     },
     "metadata": {}
    },
    {
     "output_type": "display_data",
     "data": {
      "text/plain": [
       "Map:   0%|          | 0/13368 [00:00<?, ? examples/s]"
      ],
      "application/vnd.jupyter.widget-view+json": {
       "version_major": 2,
       "version_minor": 0,
       "model_id": "f1aa2680263240a38e2266c62e95f4b6"
      }
     },
     "metadata": {}
    },
    {
     "output_type": "display_data",
     "data": {
      "text/plain": [
       "Map:   0%|          | 0/11490 [00:00<?, ? examples/s]"
      ],
      "application/vnd.jupyter.widget-view+json": {
       "version_major": 2,
       "version_minor": 0,
       "model_id": "5ad0d560dffc4c28ab8692cf2bf66ee5"
      }
     },
     "metadata": {}
    },
    {
     "output_type": "display_data",
     "data": {
      "text/plain": [
       "Map:   0%|          | 0/287113 [00:00<?, ? examples/s]"
      ],
      "application/vnd.jupyter.widget-view+json": {
       "version_major": 2,
       "version_minor": 0,
       "model_id": "95d435fdfd984df29f65be9238865843"
      }
     },
     "metadata": {}
    },
    {
     "output_type": "display_data",
     "data": {
      "text/plain": [
       "Map:   0%|          | 0/13368 [00:00<?, ? examples/s]"
      ],
      "application/vnd.jupyter.widget-view+json": {
       "version_major": 2,
       "version_minor": 0,
       "model_id": "120cf8e6f3954aeb993e20a0da26fe25"
      }
     },
     "metadata": {}
    },
    {
     "output_type": "display_data",
     "data": {
      "text/plain": [
       "Map:   0%|          | 0/11490 [00:00<?, ? examples/s]"
      ],
      "application/vnd.jupyter.widget-view+json": {
       "version_major": 2,
       "version_minor": 0,
       "model_id": "4f780f595e4f4e0a84aedbf867b49c03"
      }
     },
     "metadata": {}
    },
    {
     "output_type": "stream",
     "name": "stdout",
     "text": [
      "{'article': 'LONDON, England (Reuters) -- Harry Potter star Daniel Radcliffe gains access to a reported £20 million ($41.1 million) fortune as he turns 18 on Monday, but he insists the money won\\'t cast a spell on him. Daniel Radcliffe as Harry Potter in \"Harry Potter and the Order of the Phoenix\" To the disappointment of gossip columnists around the world, the young actor says he has no plans to fritter his cash away on fast cars, drink and celebrity parties. \"I don\\'t plan to be one of those people who, as soon as they turn 18, suddenly buy themselves a massive sports car collection or something similar,\" he told an Australian interviewer earlier this month. \"I don\\'t think I\\'ll be particularly extravagant. \"The things I like buying are things that cost about 10 pounds -- books and CDs and DVDs.\" At 18, Radcliffe will be able to gamble in a casino, buy a drink in a pub or see the horror film \"Hostel: Part II,\" currently six places below his number one movie on the UK box office chart. Details of how he\\'ll mark his landmark birthday are under wraps. His agent and publicist had no comment on his plans. \"I\\'ll definitely have some sort of party,\" he said in an interview. \"Hopefully none of you will be reading about it.\" Radcliffe\\'s earnings from the first five Potter films have been held in a trust fund which he has not been able to touch. Despite his growing fame and riches, the actor says he is keeping his feet firmly on the ground. \"People are always looking to say \\'kid star goes off the rails,\\'\" he told reporters last month. \"But I try very hard not to go that way because it would be too easy for them.\" His latest outing as the boy wizard in \"Harry Potter and the Order of the Phoenix\" is breaking records on both sides of the Atlantic and he will reprise the role in the last two films. Watch I-Reporter give her review of Potter\\'s latest » . There is life beyond Potter, however. The Londoner has filmed a TV movie called \"My Boy Jack,\" about author Rudyard Kipling and his son, due for release later this year. He will also appear in \"December Boys,\" an Australian film about four boys who escape an orphanage. Earlier this year, he made his stage debut playing a tortured teenager in Peter Shaffer\\'s \"Equus.\" Meanwhile, he is braced for even closer media scrutiny now that he\\'s legally an adult: \"I just think I\\'m going to be more sort of fair game,\" he told Reuters. E-mail to a friend . Copyright 2007 Reuters. All rights reserved.This material may not be published, broadcast, rewritten, or redistributed.', 'highlights': \"Harry Potter star Daniel Radcliffe gets £20M fortune as he turns 18 Monday . Young actor says he has no plans to fritter his cash away . Radcliffe's earnings from first five Potter films have been held in trust fund .\", 'id': '42c027e4ff9730fbb3de84c1af0d2c506e41c3e4', 'input_text': 'LONDON, England (Reuters) -- Harry Potter star Daniel Radcliffe gains access to a reported £20 million ($41.1 million) fortune as he turns 18 on Monday, but he insists the money won\\'t cast a spell on him. Daniel Radcliffe as Harry Potter in \"Harry Potter and the Order of the Phoenix\" To the disappointment of gossip columnists around the world, the young actor says he has no plans to fritter his cash away on fast cars, drink and celebrity parties. \"I don\\'t plan to be one of those people who, as soon as they turn 18, suddenly buy themselves a massive sports car collection or something similar,\" he told an Australian interviewer earlier this month. \"I don\\'t think I\\'ll be particularly extravagant. \"The things I like buying are things that cost about 10 pounds -- books and CDs and DVDs.\" At 18, Radcliffe will be able to gamble in a casino, buy a drink in a pub or see the horror film \"Hostel: Part II,\" currently six places below his number one movie on the UK box office chart. Details of how he\\'ll mark his landmark birthday are under wraps. His agent and publicist had no comment on his plans. \"I\\'ll definitely have some sort of party,\" he said in an interview. \"Hopefully none of you will be reading about it.\" Radcliffe\\'s earnings from the first five Potter films have been held in a trust fund which he has not been able to touch. Despite his growing fame and riches, the actor says he is keeping his feet firmly on the ground. \"People are always looking to say \\'kid star goes off the rails,\\'\" he told reporters last month. \"But I try very hard not to go that way because it would be too easy for them.\" His latest outing as the boy wizard in \"Harry Potter and the Order of the Phoenix\" is breaking records on both sides of the Atlantic and he will reprise the role in the last two films. Watch I-Reporter give her review of Potter\\'s latest » . There is life beyond Potter, however. The Londoner has filmed a TV movie called \"My Boy Jack,\" about author Rudyard Kipling and his son, due for release later this year. He will also appear in \"December Boys,\" an Australian film about four boys who escape an orphanage. Earlier this year, he made his stage debut playing a tortured teenager in Peter Shaffer\\'s \"Equus.\" Meanwhile, he is braced for even closer media scrutiny now that he\\'s legally an adult: \"I just think I\\'m going to be more sort of fair game,\" he told Reuters. E-mail to a friend . Copyright 2007 Reuters. All rights reserved.This material may not be published, broadcast, rewritten, or redistributed.', 'target_text': \"Harry Potter star Daniel Radcliffe gets £20M fortune as he turns 18 Monday . Young actor says he has no plans to fritter his cash away . Radcliffe's earnings from first five Potter films have been held in trust fund .\"}\n"
     ]
    }
   ]
  },
  {
   "cell_type": "code",
   "metadata": {
    "colab": {
     "base_uri": "https://localhost:8080/",
     "height": 824,
     "referenced_widgets": [
      "5aff981d98d94afd81e190c49b2c9e5b",
      "6a3b29b00b3f42fd8763f4c2a6a42aa3",
      "175fc043bebd40f0872d4a37ca7780a2",
      "e97738bef3c34de4929d615aaee7c9ce",
      "13dfff6f529f4541b21788ac106f7324",
      "c58739df840140f9938af52cbd843d59",
      "eff76af26f064a9cb04685e4a3950dd9",
      "027f928ff8204c22816de04d4b6435c3",
      "9dd52181eace42bfb10c3f14177fcd49",
      "4e379e800d084ab4bc0f387989a4e7ca",
      "5e8e9a7449344b2b9777fc5b2d41e629",
      "e347e0e0716c43d4922b2bfd4e1870e5",
      "b4b687e6c57b4161a1a50c5adfd86d8c",
      "e15d399b8fd444c1bfacffaff5d6ff28",
      "20b221f9647f4a8e85da918361844f09",
      "fdfdf8cb8416464eacc2982a2f48876e",
      "2328ab38306748cda65a28c0bc8da840",
      "20409a1b38804892bbdb364eb17abbc4",
      "626113d2998643b5adaf01d6b04e947c",
      "41f3ec805cb541ab8215201507e6040e",
      "b858e10803d94d9aa0086904b5d42419",
      "485073816b9e4ce5b163746a1153db9f",
      "2588d5d3ab5a4d56836fa34a97a28e75",
      "7badb90dca5243a9987941a773d8c53a",
      "ed15050f71bf4ab591090353b72fcdc1",
      "14df570551bb476aa9b2e44c6775db1a",
      "b3550a59bef148cdb987f9c7446a8200",
      "f2a75b563ea14acb9305a96a2b04dc09",
      "10d748f951854e75b18fc71838d8cbc4",
      "82dd912cc72f428e8e7366da7e8866c9",
      "d00ce601babf4e9dad5f010f813af4f4",
      "b794e10a824542abac77497151b37acc",
      "4d43b36c38894839841182dd1cbdf9a6",
      "2bc2d8f0d088454fa3ec9bae71c4d0cb",
      "7eb127cba6c9404f80ecb389605651a8",
      "714939f79c844d709ccfb8b5ca5b60a1",
      "a954f4aa93884faca60496d755af304e",
      "cfb057f35f084c99ac4b810d103f15c7",
      "ef09e0988fc546dab086173793bcf044",
      "3e97b273526748feaf469c22b24b2694",
      "1d0bb162ed9045a5a96086ee9407ac72",
      "6c2708129d1a4405a83fc8efb84f28bf",
      "fc11f67af2204d808399779e0afef439",
      "fab8a3c66fcd4167ae9fcd479c32c182",
      "30b399de4fac43299c239bfe1ab67434",
      "100e89b93fef4d539cb26fed8d47c4d8",
      "bd885dbffe72449b9a73836f26816f82",
      "6cb2aee409d648738aedc3e05923af58",
      "a89a34a8474546f7b7c67238f30862fc",
      "5e87dbb709844298afc2031d50229600",
      "9b77865e1602475d962e5959c0a46c17",
      "2a55b84dbbb343f69dd74115017cc311",
      "f4fda6f4589f486eb295efc3071a96e3",
      "44a6909b91ae4db0a22c901185aa67e6",
      "f5462b8784b74926bad8e00cf72cf79c",
      "e6afea70d67c48aabb5009b7fda2ac33",
      "7af6ceccc61041d0a1f55ff02cdc2b78",
      "6cf0ed2a22fb40c19a9a2ce95a687c49",
      "bd032d871f654d6c8883750c115065d6",
      "95d907e0e723400c9318453e24f74a2e",
      "76918b53e85543ffb8dc3a21a46a919a",
      "fa01854e4cb845c29e0fff6afb0f51dd",
      "e3da5e0f34b1485e993433ff4dd49107",
      "b9096597cd6e444d8886fdbc2c0be220",
      "fbb53bd363fd4cf7839cf8dcc2a13748",
      "ed7771e4094544c4abb857c9b8ff1297",
      "1dc3c0837e8e4ff082acb99cb14d4697",
      "cf5bac1d02044a8c8513c97a049880b0",
      "e02bd57d19224045916533ca87fc212f",
      "c93fdf17e62e49d6beb0c71d4cade196",
      "b4606a5d836e493db17f837a241dbc74",
      "ecdac6a3d97a49f69fc25f1b307b2f89",
      "8370da64b8184732a2880a29f455ecca",
      "b4edd9d768044e4991f286451da6f57a",
      "db132207af0c40cb9e9bad161bb0b269",
      "24087e446cef44ea9301364390f7a9bb",
      "400410631db64c1180c54c0766ae2c2e",
      "5cfc52e7416b4dc1b272d7a5bc893706",
      "31df5b908d914ba98d8cbc8748fd8267",
      "9be4dd035e194a258639e8fdffaf01ea",
      "19254c3312ef4fb496ca7415cf4255a7",
      "6cb262e9a537484da764c78b8234fb3c",
      "7f4b5c7df44549959441c521ca003070",
      "aa79794e7b514eab9045e8f191c72887",
      "a308456ad4bd433a95cdacd1101a8b85",
      "82465cf9f1aa42a4bf62241e950b31fe",
      "824133e631854971b002da78f3d42fdb",
      "dfbad07de5fc455897ee899d461b6de2",
      "a77abf38b00c48febb6190ba3598692f",
      "5a8d29df54e140fba7630e16290511b1",
      "fa4cb981292c43e8b54b12de3090ddaf",
      "cf2472ba258d45418c193ff1ffc5f18e",
      "73f659b46e1a40be9e68b1aad42490a9",
      "ce62a7b5ed74402495a46245b3ce4c7c",
      "5dfcc0ebddbf4483b1e42e71b2b6ebf3",
      "c1c5eb2a8d8f48649dd65a64ed3299e7",
      "e23335723a224833a95479623bf89026",
      "3c2115214a324bd3a31a2d7784b19d2e",
      "2f1e590fb92f489bb73827097c1a3728",
      "0c35f8b57d8345038bfeaf843e712544",
      "7e007bbbd73440b185f49cdda07f4e33",
      "b0c4cb8c0cc347b7b4926925af654dfe",
      "3b6abc76b3c846cb9e6a7446c1333462",
      "25992b30d24e497e92c1f71d67856f58",
      "b46d10f3fead463ab30d3add8521d17d",
      "da7839c883b14eddb64b7294482b82e2",
      "998197a0795747889eacc89fec89d948",
      "f30e36e56e2749b1ab35f5ee7f5ee56e",
      "faa3a2c398bb4d64b64c705d8ad0e948",
      "32b4019c95f346c6a559e1cacbf08d46",
      "c0843c71704d4cc79fe0f44e06382d18",
      "123af8a203af4c3599e62d0b8d38a086",
      "433aa833860147708c95435d26d01d6f",
      "e829e1b410a140f0b22f2d07b9b8cde6",
      "eba62de907d448dbab4e3022693cf03f",
      "7d450f8b7b3647ff98d2e614033626a0",
      "fa788dc38af5456ab8a4f867fa29e1e8",
      "a8f56fee756c4571b6db581d61777de9",
      "dc50d63c9eea469aa929e96c0743720e",
      "bd8b4888e44142d2ae80391b8a50244f",
      "b843a1a7890943dfbfa33e7c735334b6",
      "f3e8d3fe0d0b4ae0ae8525dd7f89055e",
      "1e22cf0e05214616b7f6bc3e830a91e7",
      "cdecd726267d4de0bc3f99c5682364c8",
      "76fce28b2ebf44e7a65d46501b29031c",
      "4c317e9bedaf40519e17e4baa0cef777",
      "22fbf58c025b4b6593288e49480f022f",
      "e487a85aafbf4888b681c375b18f998f",
      "4769ac451d1a45a184bb3d9ee6cba7f2",
      "4baf9d9a24d14c618ef96791af88bbd9",
      "3244320cc7af46ad97bdd9c6a053d7fe",
      "8434a9598d8a41f68fb65f732dc0833a",
      "82a2dcf32eb145bb96140f8388aa35c8",
      "a88b986ec3d2474c81170c363686d1bf",
      "6d48289ffa7b449e989839d8487e48af",
      "2e27cd32dbbf4060b0ca2fd947b5b3f7",
      "7d7dbd1a5cc54abfbcbd5aff44e23477",
      "691605fb20044c719647f2a468508f90",
      "cdb7406e64b841caaf1e4630ea70f64c",
      "5ac6bb60590646779973aeb484821342",
      "5f796b30cb224cf6a97b5bafe9228900",
      "a4c774079e464aae9ab396e85815bba6",
      "90f684e78f2b49ea800a56dc46f9fe6e",
      "ad1128829faa4243954127bb785deefd",
      "9c113b3c6ae7497187dc377fcda49967",
      "01eae7e05a4142a088097f6d66d33430",
      "a65e5a0c3f4f49129efb3fd9f72d8f32",
      "dd55771d9b374e3a95e82e7bb70a15aa",
      "68088e2d0c5e4d179313f57315773255",
      "60585d6e49f04a659c3288721527a480",
      "03d581396fe34a77b81de9d3c7fa94c0",
      "18fb6a6552674fcbb17c6697e06db0f6",
      "04b9d355cfff4f008b5f00145f1320f2",
      "e0d19f38b1b348be9a3a28a89b22caab",
      "bf6e41b45fde4b899acb86513f8712b6",
      "c112cd5a60c14e8c92f16a78a925e408",
      "4a6230a9696f42aab77924b0254b0a62",
      "edb0fa7baca042abbc7ea7060d7a68f1",
      "29344fdccd6b4a50a22fe55558a6a87b",
      "051f69a3bc72430cbe3923f36ae98f27",
      "6d506a13477f46c0b7b40a516c4e5303",
      "eb8071d781c1406c86c72db99a5a708e",
      "8b4dc30f9d9b4c7fbfbda697c6fd5386",
      "6c903bf535dd431aa71b1addcafb24d6",
      "f702ed193eae42a082bd84176fa1fae9",
      "ac248d20b2ad4c96a9bc50919fc9ca8e",
      "2503595b8dd241458b4bcc2791790456",
      "729e757cc05b4157bc7cae0aa0ea3fb4",
      "ff3633cb12b3424994b2191d9972784f",
      "c033f917a24a43a7813c7d2a54ec6e99",
      "f712fc67d1b347b6bc5a5aafe1c465df",
      "c22d4586fcd841799660cc1ffc5d7219",
      "d34ff77b61344f65ac296c2595f8fb6a",
      "28b3f03b34e5404baa7c5f4f33e9f70f",
      "ecfe1afa701b41df92a880d6b3b6a1bd",
      "8f8be913a1324131a4f371f265973052",
      "529c7bebac1c430986b3c8ff8925e3df",
      "b7bccc7f076b48cc8cc7a3c1a17faba1",
      "6182847e6142473d940f1f26b00282ac",
      "bc26085c5ca247c19ed54c8bc483e125",
      "a73d95273c6b4750bf76fae7a9b3d191",
      "28e462e4328347af8bc4280140363cd6",
      "fd8f38386a004c69bb795679f6b16e00",
      "8cae9b027cdf466ea048f25d2193a15d",
      "697a5953f25e46668123408399e0df7a",
      "77fd051e0575442893b4058cacc13803",
      "5649186c9ce64909a4e72daaf636a780"
     ]
    },
    "id": "j7-Vxr8QtkMk",
    "executionInfo": {
     "status": "ok",
     "timestamp": 1755313610135,
     "user_tz": -330,
     "elapsed": 231796,
     "user": {
      "displayName": "Keerthana K Unni",
      "userId": "08328964662187661859"
     }
    },
    "outputId": "bfdbd9f9-c691-4e58-bc6d-4b9bbab55472"
   },
   "source": [
    "from transformers import BartTokenizer, BartForConditionalGeneration, PegasusTokenizer, PegasusForConditionalGeneration, T5Tokenizer, T5ForConditionalGeneration, TrainingArguments, Trainer\n",
    "\n",
    "# --- BART ---\n",
    "bart_model_name = 'bart-large'\n",
    "try:\n",
    "    bart_tokenizer = BartTokenizer.from_pretrained(bart_model_name)\n",
    "    bart_model = BartForConditionalGeneration.from_pretrained(bart_model_name)\n",
    "    print(f\"BART model '{bart_model_name}' loaded successfully.\")\n",
    "except Exception as e:\n",
    "    print(f\"Error loading BART model '{bart_model_name}': {e}\")\n",
    "\n",
    "\n",
    "# --- PEGASUS ---\n",
    "pegasus_model_name = 'google/pegasus-cnn_dailymail'\n",
    "try:\n",
    "    pegasus_tokenizer = PegasusTokenizer.from_pretrained(pegasus_model_name)\n",
    "    pegasus_model = PegasusForConditionalGeneration.from_pretrained(pegasus_model_name)\n",
    "    print(f\"PEGASUS model '{pegasus_model_name}' loaded successfully.\")\n",
    "except Exception as e:\n",
    "    print(f\"Error loading PEGASUS model '{pegasus_model_name}': {e}\")\n",
    "\n",
    "\n",
    "# --- T5 (base and large) ---\n",
    "t5_base_model_name = 't5-base'\n",
    "try:\n",
    "    t5_base_tokenizer = T5Tokenizer.from_pretrained(t5_base_model_name)\n",
    "    t5_base_model = T5ForConditionalGeneration.from_pretrained(t5_base_model_name)\n",
    "    print(f\"T5 base model '{t5_base_model_name}' loaded successfully.\")\n",
    "except Exception as e:\n",
    "    print(f\"Error loading T5 base model '{t5_base_model_name}': {e}\")\n",
    "\n",
    "\n",
    "t5_large_model_name = 't5-large'\n",
    "try:\n",
    "    t5_large_tokenizer = T5Tokenizer.from_pretrained(t5_large_model_name)\n",
    "    t5_large_model = T5ForConditionalGeneration.from_pretrained(t5_large_model_name)\n",
    "    print(f\"T5 large model '{t5_large_model_name}' loaded successfully.\")\n",
    "except Exception as e:\n",
    "    print(f\"Error loading T5 large model '{t5_large_model_name}': {e}\")\n",
    "\n",
    "\n",
    "# Example of setting up training arguments (will be modified for each model)\n",
    "training_args = TrainingArguments(\n",
    "    output_dir='./results',\n",
    "    num_train_epochs=1,  # Reduced for demonstration\n",
    "    per_device_train_batch_size=4,\n",
    "    per_device_eval_batch_size=4,\n",
    "    warmup_steps=500,\n",
    "    weight_decay=0.01,\n",
    "    logging_dir='./logs',\n",
    "    logging_steps=10,\n",
    "    eval_strategy=\"epoch\",\n",
    "    save_strategy=\"epoch\",\n",
    "    load_best_model_at_end=True,\n",
    "    report_to=\"none\" # Disable reporting for this example\n",
    ")"
   ],
   "execution_count": 1,
   "outputs": [
    {
     "output_type": "stream",
     "name": "stderr",
     "text": [
      "/usr/local/lib/python3.11/dist-packages/huggingface_hub/utils/_auth.py:94: UserWarning: \n",
      "The secret `HF_TOKEN` does not exist in your Colab secrets.\n",
      "To authenticate with the Hugging Face Hub, create a token in your settings tab (https://huggingface.co/settings/tokens), set it as secret in your Google Colab and restart your session.\n",
      "You will be able to reuse this secret in all of your notebooks.\n",
      "Please note that authentication is recommended but still optional to access public models or datasets.\n",
      "  warnings.warn(\n"
     ]
    },
    {
     "output_type": "stream",
     "name": "stdout",
     "text": [
      "Error loading BART model 'bart-large': bart-large is not a local folder and is not a valid model identifier listed on 'https://huggingface.co/models'\n",
      "If this is a private repository, make sure to pass a token having permission to this repo either by logging in with `hf auth login` or by passing `token=<your_token>`\n"
     ]
    },
    {
     "output_type": "display_data",
     "data": {
      "text/plain": [
       "tokenizer_config.json:   0%|          | 0.00/88.0 [00:00<?, ?B/s]"
      ],
      "application/vnd.jupyter.widget-view+json": {
       "version_major": 2,
       "version_minor": 0,
       "model_id": "5aff981d98d94afd81e190c49b2c9e5b"
      }
     },
     "metadata": {}
    },
    {
     "output_type": "display_data",
     "data": {
      "text/plain": [
       "spiece.model:   0%|          | 0.00/1.91M [00:00<?, ?B/s]"
      ],
      "application/vnd.jupyter.widget-view+json": {
       "version_major": 2,
       "version_minor": 0,
       "model_id": "e347e0e0716c43d4922b2bfd4e1870e5"
      }
     },
     "metadata": {}
    },
    {
     "output_type": "display_data",
     "data": {
      "text/plain": [
       "special_tokens_map.json:   0%|          | 0.00/65.0 [00:00<?, ?B/s]"
      ],
      "application/vnd.jupyter.widget-view+json": {
       "version_major": 2,
       "version_minor": 0,
       "model_id": "2588d5d3ab5a4d56836fa34a97a28e75"
      }
     },
     "metadata": {}
    },
    {
     "output_type": "display_data",
     "data": {
      "text/plain": [
       "config.json: 0.00B [00:00, ?B/s]"
      ],
      "application/vnd.jupyter.widget-view+json": {
       "version_major": 2,
       "version_minor": 0,
       "model_id": "2bc2d8f0d088454fa3ec9bae71c4d0cb"
      }
     },
     "metadata": {}
    },
    {
     "output_type": "display_data",
     "data": {
      "text/plain": [
       "pytorch_model.bin:   0%|          | 0.00/2.28G [00:00<?, ?B/s]"
      ],
      "application/vnd.jupyter.widget-view+json": {
       "version_major": 2,
       "version_minor": 0,
       "model_id": "30b399de4fac43299c239bfe1ab67434"
      }
     },
     "metadata": {}
    },
    {
     "output_type": "display_data",
     "data": {
      "text/plain": [
       "model.safetensors:   0%|          | 0.00/2.28G [00:00<?, ?B/s]"
      ],
      "application/vnd.jupyter.widget-view+json": {
       "version_major": 2,
       "version_minor": 0,
       "model_id": "e6afea70d67c48aabb5009b7fda2ac33"
      }
     },
     "metadata": {}
    },
    {
     "output_type": "stream",
     "name": "stderr",
     "text": [
      "Some weights of PegasusForConditionalGeneration were not initialized from the model checkpoint at google/pegasus-cnn_dailymail and are newly initialized: ['model.decoder.embed_positions.weight', 'model.encoder.embed_positions.weight']\n",
      "You should probably TRAIN this model on a down-stream task to be able to use it for predictions and inference.\n"
     ]
    },
    {
     "output_type": "display_data",
     "data": {
      "text/plain": [
       "generation_config.json:   0%|          | 0.00/280 [00:00<?, ?B/s]"
      ],
      "application/vnd.jupyter.widget-view+json": {
       "version_major": 2,
       "version_minor": 0,
       "model_id": "1dc3c0837e8e4ff082acb99cb14d4697"
      }
     },
     "metadata": {}
    },
    {
     "output_type": "stream",
     "name": "stdout",
     "text": [
      "PEGASUS model 'google/pegasus-cnn_dailymail' loaded successfully.\n"
     ]
    },
    {
     "output_type": "display_data",
     "data": {
      "text/plain": [
       "spiece.model:   0%|          | 0.00/792k [00:00<?, ?B/s]"
      ],
      "application/vnd.jupyter.widget-view+json": {
       "version_major": 2,
       "version_minor": 0,
       "model_id": "5cfc52e7416b4dc1b272d7a5bc893706"
      }
     },
     "metadata": {}
    },
    {
     "output_type": "display_data",
     "data": {
      "text/plain": [
       "tokenizer.json:   0%|          | 0.00/1.39M [00:00<?, ?B/s]"
      ],
      "application/vnd.jupyter.widget-view+json": {
       "version_major": 2,
       "version_minor": 0,
       "model_id": "a77abf38b00c48febb6190ba3598692f"
      }
     },
     "metadata": {}
    },
    {
     "output_type": "display_data",
     "data": {
      "text/plain": [
       "config.json:   0%|          | 0.00/1.21k [00:00<?, ?B/s]"
      ],
      "application/vnd.jupyter.widget-view+json": {
       "version_major": 2,
       "version_minor": 0,
       "model_id": "0c35f8b57d8345038bfeaf843e712544"
      }
     },
     "metadata": {}
    },
    {
     "output_type": "stream",
     "name": "stderr",
     "text": [
      "You are using the default legacy behaviour of the <class 'transformers.models.t5.tokenization_t5.T5Tokenizer'>. This is expected, and simply means that the `legacy` (previous) behavior will be used so nothing changes for you. If you want to use the new behaviour, set `legacy=False`. This should only be set if you understand what it means, and thoroughly read the reason why this was added as explained in https://github.com/huggingface/transformers/pull/24565\n"
     ]
    },
    {
     "output_type": "display_data",
     "data": {
      "text/plain": [
       "model.safetensors:   0%|          | 0.00/892M [00:00<?, ?B/s]"
      ],
      "application/vnd.jupyter.widget-view+json": {
       "version_major": 2,
       "version_minor": 0,
       "model_id": "c0843c71704d4cc79fe0f44e06382d18"
      }
     },
     "metadata": {}
    },
    {
     "output_type": "display_data",
     "data": {
      "text/plain": [
       "generation_config.json:   0%|          | 0.00/147 [00:00<?, ?B/s]"
      ],
      "application/vnd.jupyter.widget-view+json": {
       "version_major": 2,
       "version_minor": 0,
       "model_id": "f3e8d3fe0d0b4ae0ae8525dd7f89055e"
      }
     },
     "metadata": {}
    },
    {
     "output_type": "stream",
     "name": "stdout",
     "text": [
      "T5 base model 't5-base' loaded successfully.\n"
     ]
    },
    {
     "output_type": "display_data",
     "data": {
      "text/plain": [
       "spiece.model:   0%|          | 0.00/792k [00:00<?, ?B/s]"
      ],
      "application/vnd.jupyter.widget-view+json": {
       "version_major": 2,
       "version_minor": 0,
       "model_id": "82a2dcf32eb145bb96140f8388aa35c8"
      }
     },
     "metadata": {}
    },
    {
     "output_type": "display_data",
     "data": {
      "text/plain": [
       "tokenizer.json:   0%|          | 0.00/1.39M [00:00<?, ?B/s]"
      ],
      "application/vnd.jupyter.widget-view+json": {
       "version_major": 2,
       "version_minor": 0,
       "model_id": "ad1128829faa4243954127bb785deefd"
      }
     },
     "metadata": {}
    },
    {
     "output_type": "display_data",
     "data": {
      "text/plain": [
       "config.json:   0%|          | 0.00/1.21k [00:00<?, ?B/s]"
      ],
      "application/vnd.jupyter.widget-view+json": {
       "version_major": 2,
       "version_minor": 0,
       "model_id": "bf6e41b45fde4b899acb86513f8712b6"
      }
     },
     "metadata": {}
    },
    {
     "output_type": "display_data",
     "data": {
      "text/plain": [
       "model.safetensors:   0%|          | 0.00/2.95G [00:00<?, ?B/s]"
      ],
      "application/vnd.jupyter.widget-view+json": {
       "version_major": 2,
       "version_minor": 0,
       "model_id": "ac248d20b2ad4c96a9bc50919fc9ca8e"
      }
     },
     "metadata": {}
    },
    {
     "output_type": "display_data",
     "data": {
      "text/plain": [
       "generation_config.json:   0%|          | 0.00/147 [00:00<?, ?B/s]"
      ],
      "application/vnd.jupyter.widget-view+json": {
       "version_major": 2,
       "version_minor": 0,
       "model_id": "529c7bebac1c430986b3c8ff8925e3df"
      }
     },
     "metadata": {}
    },
    {
     "output_type": "stream",
     "name": "stdout",
     "text": [
      "T5 large model 't5-large' loaded successfully.\n"
     ]
    }
   ]
  },
  {
   "cell_type": "code",
   "metadata": {
    "colab": {
     "base_uri": "https://localhost:8080/"
    },
    "id": "DcKXkLp2vNfN",
    "executionInfo": {
     "status": "ok",
     "timestamp": 1755326313399,
     "user_tz": -330,
     "elapsed": 46946,
     "user": {
      "displayName": "Keerthana K Unni",
      "userId": "08328964662187661859"
     }
    },
    "outputId": "1d504e88-7008-4c54-fd18-8cc03408cd12"
   },
   "source": [
    "# Remove problematic imports and keep only the successful ones\n",
    "from transformers import BartTokenizer, BartForConditionalGeneration, PegasusTokenizer, PegasusForConditionalGeneration, T5Tokenizer, T5ForConditionalGeneration, TrainingArguments, Trainer\n",
    "\n",
    "# --- BART ---\n",
    "bart_model_name = 'bart-large-cnn' # Use a specific summarization checkpoint\n",
    "try:\n",
    "    bart_tokenizer = BartTokenizer.from_pretrained(bart_model_name)\n",
    "    bart_model = BartForConditionalGeneration.from_pretrained(bart_model_name)\n",
    "    print(f\"BART model '{bart_model_name}' loaded successfully.\")\n",
    "except Exception as e:\n",
    "    print(f\"Error loading BART model '{bart_model_name}': {e}\")\n",
    "\n",
    "# --- PEGASUS ---\n",
    "pegasus_model_name = 'google/pegasus-cnn_dailymail'\n",
    "try:\n",
    "    pegasus_tokenizer = PegasusTokenizer.from_pretrained(pegasus_model_name)\n",
    "    pegasus_model = PegasusForConditionalGeneration.from_pretrained(pegasus_model_name)\n",
    "    print(f\"PEGASUS model '{pegasus_model_name}' loaded successfully.\")\n",
    "except Exception as e:\n",
    "    print(f\"Error loading PEGASUS model '{pegasus_model_name}': {e}\")\n",
    "\n",
    "# --- T5 (base and large) ---\n",
    "t5_base_model_name = 't5-base'\n",
    "try:\n",
    "    t5_base_tokenizer = T5Tokenizer.from_pretrained(t5_base_model_name)\n",
    "    t5_base_model = T5ForConditionalGeneration.from_pretrained(t5_base_model_name)\n",
    "    print(f\"T5 base model '{t5_base_model_name}' loaded successfully.\")\n",
    "except Exception as e:\n",
    "    print(f\"Error loading T5 base model '{t5_base_model_name}': {e}\")\n",
    "\n",
    "t5_large_model_name = 't5-large'\n",
    "try:\n",
    "    t5_large_tokenizer = T5Tokenizer.from_pretrained(t5_large_model_name)\n",
    "    t5_large_model = T5ForConditionalGeneration.from_pretrained(t5_large_model_name)\n",
    "    print(f\"T5 large model '{t5_large_model_name}' loaded successfully.\")\n",
    "except Exception as e:\n",
    "    print(f\"Error loading T5 large model '{t5_large_model_name}': {e}\")\n",
    "\n",
    "# --- LongT5 ---\n",
    "# LongT5 uses T5Tokenizer\n",
    "longt5_model_name = 'google/longt5-local-base' # Example, may need adjustment\n",
    "try:\n",
    "    longt5_tokenizer = T5Tokenizer.from_pretrained(longt5_model_name) # Use T5Tokenizer\n",
    "    longt5_model = T5ForConditionalGeneration.from_pretrained(longt5_model_name) # LongT5 is a variant of T5\n",
    "    print(f\"LongT5 model '{longt5_model_name}' loaded successfully.\")\n",
    "except Exception as e:\n",
    "    print(f\"Error loading LongT5 model '{longt5_model_name}': {e}\")\n",
    "\n",
    "# --- Models requiring custom implementation or external libraries ---\n",
    "print(\"\\nThe following models require finding specific implementations or external libraries:\")\n",
    "print(\"- PRIMERA\")\n",
    "print(\"- Absformer\")\n",
    "print(\"- Graph-based Neural Networks for MDS (e.g., TG-MultiSum)\")\n",
    "print(\"- Hierarchical Transformer Models\")\n",
    "print(\"- Deep Communicating Agents (DCA)\")\n",
    "print(\"- Models with External Knowledge Incorporation\")\n",
    "\n",
    "# Example of setting up training arguments (corrected again)\n",
    "training_args = TrainingArguments(\n",
    "    output_dir='./results',\n",
    "    num_train_epochs=1,  # Reduced for demonstration\n",
    "    per_device_train_batch_size=4,\n",
    "    per_device_eval_batch_size=4,\n",
    "    warmup_steps=500,\n",
    "    weight_decay=0.01,\n",
    "    logging_dir='./logs',\n",
    "    logging_steps=10,\n",
    "    eval_strategy=\"steps\",\n",
    "    save_steps=10,\n",
    "    load_best_model_at_end=True,\n",
    "    report_to=\"none\" # Disable reporting for this example\n",
    ")\n",
    "\n",
    "print(\"\\nTrainingArguments configured successfully.\")\n"
   ],
   "execution_count": 2,
   "outputs": [
    {
     "output_type": "stream",
     "name": "stdout",
     "text": [
      "Error loading BART model 'bart-large-cnn': bart-large-cnn is not a local folder and is not a valid model identifier listed on 'https://huggingface.co/models'\n",
      "If this is a private repository, make sure to pass a token having permission to this repo either by logging in with `hf auth login` or by passing `token=<your_token>`\n"
     ]
    },
    {
     "output_type": "stream",
     "name": "stderr",
     "text": [
      "Some weights of PegasusForConditionalGeneration were not initialized from the model checkpoint at google/pegasus-cnn_dailymail and are newly initialized: ['model.decoder.embed_positions.weight', 'model.encoder.embed_positions.weight']\n",
      "You should probably TRAIN this model on a down-stream task to be able to use it for predictions and inference.\n"
     ]
    },
    {
     "output_type": "stream",
     "name": "stdout",
     "text": [
      "PEGASUS model 'google/pegasus-cnn_dailymail' loaded successfully.\n"
     ]
    },
    {
     "output_type": "stream",
     "name": "stderr",
     "text": [
      "You are using the default legacy behaviour of the <class 'transformers.models.t5.tokenization_t5.T5Tokenizer'>. This is expected, and simply means that the `legacy` (previous) behavior will be used so nothing changes for you. If you want to use the new behaviour, set `legacy=False`. This should only be set if you understand what it means, and thoroughly read the reason why this was added as explained in https://github.com/huggingface/transformers/pull/24565\n"
     ]
    },
    {
     "output_type": "stream",
     "name": "stdout",
     "text": [
      "T5 base model 't5-base' loaded successfully.\n",
      "T5 large model 't5-large' loaded successfully.\n"
     ]
    },
    {
     "output_type": "stream",
     "name": "stderr",
     "text": [
      "You are using a model of type longt5 to instantiate a model of type t5. This is not supported for all configurations of models and can yield errors.\n",
      "Some weights of T5ForConditionalGeneration were not initialized from the model checkpoint at google/longt5-local-base and are newly initialized: ['encoder.block.0.layer.0.SelfAttention.k.weight', 'encoder.block.0.layer.0.SelfAttention.o.weight', 'encoder.block.0.layer.0.SelfAttention.q.weight', 'encoder.block.0.layer.0.SelfAttention.relative_attention_bias.weight', 'encoder.block.0.layer.0.SelfAttention.v.weight', 'encoder.block.1.layer.0.SelfAttention.k.weight', 'encoder.block.1.layer.0.SelfAttention.o.weight', 'encoder.block.1.layer.0.SelfAttention.q.weight', 'encoder.block.1.layer.0.SelfAttention.v.weight', 'encoder.block.10.layer.0.SelfAttention.k.weight', 'encoder.block.10.layer.0.SelfAttention.o.weight', 'encoder.block.10.layer.0.SelfAttention.q.weight', 'encoder.block.10.layer.0.SelfAttention.v.weight', 'encoder.block.11.layer.0.SelfAttention.k.weight', 'encoder.block.11.layer.0.SelfAttention.o.weight', 'encoder.block.11.layer.0.SelfAttention.q.weight', 'encoder.block.11.layer.0.SelfAttention.v.weight', 'encoder.block.2.layer.0.SelfAttention.k.weight', 'encoder.block.2.layer.0.SelfAttention.o.weight', 'encoder.block.2.layer.0.SelfAttention.q.weight', 'encoder.block.2.layer.0.SelfAttention.v.weight', 'encoder.block.3.layer.0.SelfAttention.k.weight', 'encoder.block.3.layer.0.SelfAttention.o.weight', 'encoder.block.3.layer.0.SelfAttention.q.weight', 'encoder.block.3.layer.0.SelfAttention.v.weight', 'encoder.block.4.layer.0.SelfAttention.k.weight', 'encoder.block.4.layer.0.SelfAttention.o.weight', 'encoder.block.4.layer.0.SelfAttention.q.weight', 'encoder.block.4.layer.0.SelfAttention.v.weight', 'encoder.block.5.layer.0.SelfAttention.k.weight', 'encoder.block.5.layer.0.SelfAttention.o.weight', 'encoder.block.5.layer.0.SelfAttention.q.weight', 'encoder.block.5.layer.0.SelfAttention.v.weight', 'encoder.block.6.layer.0.SelfAttention.k.weight', 'encoder.block.6.layer.0.SelfAttention.o.weight', 'encoder.block.6.layer.0.SelfAttention.q.weight', 'encoder.block.6.layer.0.SelfAttention.v.weight', 'encoder.block.7.layer.0.SelfAttention.k.weight', 'encoder.block.7.layer.0.SelfAttention.o.weight', 'encoder.block.7.layer.0.SelfAttention.q.weight', 'encoder.block.7.layer.0.SelfAttention.v.weight', 'encoder.block.8.layer.0.SelfAttention.k.weight', 'encoder.block.8.layer.0.SelfAttention.o.weight', 'encoder.block.8.layer.0.SelfAttention.q.weight', 'encoder.block.8.layer.0.SelfAttention.v.weight', 'encoder.block.9.layer.0.SelfAttention.k.weight', 'encoder.block.9.layer.0.SelfAttention.o.weight', 'encoder.block.9.layer.0.SelfAttention.q.weight', 'encoder.block.9.layer.0.SelfAttention.v.weight', 'lm_head.weight']\n",
      "You should probably TRAIN this model on a down-stream task to be able to use it for predictions and inference.\n"
     ]
    },
    {
     "output_type": "stream",
     "name": "stdout",
     "text": [
      "LongT5 model 'google/longt5-local-base' loaded successfully.\n",
      "\n",
      "The following models require finding specific implementations or external libraries:\n",
      "- PRIMERA\n",
      "- Absformer\n",
      "- Graph-based Neural Networks for MDS (e.g., TG-MultiSum)\n",
      "- Hierarchical Transformer Models\n",
      "- Deep Communicating Agents (DCA)\n",
      "- Models with External Knowledge Incorporation\n",
      "\n",
      "TrainingArguments configured successfully.\n"
     ]
    }
   ]
  },
  {
   "cell_type": "code",
   "source": [
    "from datasets import load_dataset\n",
    "from transformers import pipeline\n",
    "from rouge_score import rouge_scorer\n",
    "import numpy as np\n",
    "\n",
    "# Load small dataset subset\n",
    "dataset = load_dataset(\"cnn_dailymail\", \"3.0.0\", split=\"validation[:3]\")  # just 3 samples for speed\n",
    "\n",
    "# Function to evaluate a model quickly\n",
    "def evaluate_model(model_name, tokenizer_class, model_class):\n",
    "    try:\n",
    "        summarizer = pipeline(\"summarization\", model=model_name, tokenizer=model_name, framework=\"pt\")\n",
    "        references, predictions = [], []\n",
    "\n",
    "        for sample in dataset:\n",
    "            text = sample['article']\n",
    "            ref = sample['highlights']\n",
    "            pred = summarizer(text, max_length=60, min_length=20, truncation=True)[0]['summary_text']\n",
    "            references.append(ref)\n",
    "            predictions.append(pred)\n",
    "\n",
    "        # ROUGE scoring\n",
    "        scorer = rouge_scorer.RougeScorer([\"rouge1\", \"rouge2\", \"rougeL\"], use_stemmer=True)\n",
    "        rouge_scores = {\"rouge1\": [], \"rouge2\": [], \"rougeL\": []}\n",
    "        for ref, pred in zip(references, predictions):\n",
    "            scores = scorer.score(ref, pred)\n",
    "            for key in rouge_scores:\n",
    "                rouge_scores[key].append(scores[key].fmeasure)\n",
    "\n",
    "        avg_scores = {k: np.mean(v) for k, v in rouge_scores.items()}\n",
    "        print(f\"\\nModel: {model_name}\")\n",
    "        for k, v in avg_scores.items():\n",
    "            print(f\"{k}: {v:.4f}\")\n",
    "\n",
    "        return avg_scores\n",
    "    except Exception as e:\n",
    "        print(f\"Error with {model_name}: {e}\")\n",
    "        return None\n",
    "\n",
    "\n",
    "# Run evaluations very quickly\n",
    "results = {}\n",
    "#results[\"BART\"] = evaluate_model(\"facebook/bart-large-cnn\", BartTokenizer, BartForConditionalGeneration)\n",
    "results[\"PEGASUS\"] = evaluate_model(\"google/pegasus-cnn_dailymail\", PegasusTokenizer, PegasusForConditionalGeneration)\n",
    "results[\"T5-base\"] = evaluate_model(\"t5-base\", T5Tokenizer, T5ForConditionalGeneration)\n",
    "#results[\"T5-large\"] = evaluate_model(\"t5-large\", T5Tokenizer, T5ForConditionalGeneration)\n",
    "#results[\"LongT5\"] = evaluate_model(\"google/longt5-local-base\", T5Tokenizer, T5ForConditionalGeneration)\n",
    "\n",
    "# You already did PRIMERA separately\n"
   ],
   "metadata": {
    "colab": {
     "base_uri": "https://localhost:8080/"
    },
    "id": "jAbx7KB1_jeS",
    "executionInfo": {
     "status": "ok",
     "timestamp": 1755326572907,
     "user_tz": -330,
     "elapsed": 220483,
     "user": {
      "displayName": "Keerthana K Unni",
      "userId": "08328964662187661859"
     }
    },
    "outputId": "0348e5ea-143f-4091-eda7-701265dad8c1"
   },
   "execution_count": 3,
   "outputs": [
    {
     "output_type": "stream",
     "name": "stderr",
     "text": [
      "Some weights of PegasusForConditionalGeneration were not initialized from the model checkpoint at google/pegasus-cnn_dailymail and are newly initialized: ['model.decoder.embed_positions.weight', 'model.encoder.embed_positions.weight']\n",
      "You should probably TRAIN this model on a down-stream task to be able to use it for predictions and inference.\n",
      "Device set to use cpu\n"
     ]
    },
    {
     "output_type": "stream",
     "name": "stdout",
     "text": [
      "\n",
      "Model: google/pegasus-cnn_dailymail\n",
      "rouge1: 0.2805\n",
      "rouge2: 0.0672\n",
      "rougeL: 0.1974\n"
     ]
    },
    {
     "output_type": "stream",
     "name": "stderr",
     "text": [
      "Device set to use cpu\n",
      "Asking to truncate to max_length but no maximum length is provided and the model has no predefined maximum length. Default to no truncation.\n",
      "Both `max_new_tokens` (=256) and `max_length`(=60) seem to have been set. `max_new_tokens` will take precedence. Please refer to the documentation for more information. (https://huggingface.co/docs/transformers/main/en/main_classes/text_generation)\n",
      "Both `max_new_tokens` (=256) and `max_length`(=60) seem to have been set. `max_new_tokens` will take precedence. Please refer to the documentation for more information. (https://huggingface.co/docs/transformers/main/en/main_classes/text_generation)\n",
      "Both `max_new_tokens` (=256) and `max_length`(=60) seem to have been set. `max_new_tokens` will take precedence. Please refer to the documentation for more information. (https://huggingface.co/docs/transformers/main/en/main_classes/text_generation)\n"
     ]
    },
    {
     "output_type": "stream",
     "name": "stdout",
     "text": [
      "\n",
      "Model: t5-base\n",
      "rouge1: 0.3338\n",
      "rouge2: 0.1192\n",
      "rougeL: 0.2473\n"
     ]
    }
   ]
  },
  {
   "cell_type": "code",
   "source": [
    "from datasets import load_dataset\n",
    "from transformers import BartTokenizer, BartForConditionalGeneration, pipeline\n",
    "import evaluate\n",
    "\n",
    "# 1. Load dataset (CNN/DailyMail)\n",
    "dataset = load_dataset(\"cnn_dailymail\", \"3.0.0\")\n",
    "\n",
    "# 2. Take tiny subset (3 samples)\n",
    "tiny_eval_dataset = dataset[\"validation\"].select(range(3))\n",
    "\n",
    "# 3. Load BART model + tokenizer\n",
    "model_name = \"facebook/bart-base\"\n",
    "tokenizer = BartTokenizer.from_pretrained(model_name)\n",
    "model = BartForConditionalGeneration.from_pretrained(model_name)\n",
    "model.to(\"cpu\")  # ensure CPU usage\n",
    "\n",
    "# 4. Build summarization pipeline (with truncation)\n",
    "summarizer = pipeline(\n",
    "    \"summarization\",\n",
    "    model=model,\n",
    "    tokenizer=tokenizer,\n",
    "    device=-1  # -1 = CPU\n",
    ")\n",
    "\n",
    "# 5. Run summarization\n",
    "predictions, references = [], []\n",
    "for sample in tiny_eval_dataset:\n",
    "    # tokenize with truncation\n",
    "    inputs = tokenizer(\n",
    "        sample[\"article\"],\n",
    "        max_length=1024,   # truncate to BART max length\n",
    "        truncation=True,\n",
    "        return_tensors=\"pt\"\n",
    "    )\n",
    "\n",
    "    # generate summary\n",
    "    summary_ids = model.generate(\n",
    "        input_ids=inputs[\"input_ids\"],\n",
    "        attention_mask=inputs[\"attention_mask\"],\n",
    "        max_length=60,\n",
    "        min_length=10,\n",
    "        num_beams=4,\n",
    "        early_stopping=True\n",
    "    )\n",
    "\n",
    "    pred = tokenizer.decode(summary_ids[0], skip_special_tokens=True)\n",
    "    predictions.append(pred)\n",
    "    references.append(sample[\"highlights\"])\n",
    "\n",
    "# 6. Compute ROUGE\n",
    "rouge = evaluate.load(\"rouge\")\n",
    "results = rouge.compute(predictions=predictions, references=references)\n",
    "\n",
    "print(\"Quick ROUGE results with BART (3 samples, CPU):\", results)\n"
   ],
   "metadata": {
    "colab": {
     "base_uri": "https://localhost:8080/"
    },
    "id": "zS72eroLHvAI",
    "executionInfo": {
     "status": "ok",
     "timestamp": 1755318820741,
     "user_tz": -330,
     "elapsed": 41421,
     "user": {
      "displayName": "Keerthana K Unni",
      "userId": "08328964662187661859"
     }
    },
    "outputId": "120584fe-9c9c-4fb7-c73b-43db21881a22"
   },
   "execution_count": 12,
   "outputs": [
    {
     "output_type": "stream",
     "name": "stderr",
     "text": [
      "Device set to use cpu\n"
     ]
    },
    {
     "output_type": "stream",
     "name": "stdout",
     "text": [
      "Quick ROUGE results with BART (3 samples, CPU): {'rouge1': np.float64(0.2583148514455833), 'rouge2': np.float64(0.07597340930674264), 'rougeL': np.float64(0.20840855961158067), 'rougeLsum': np.float64(0.2325049451537493)}\n"
     ]
    }
   ]
  },
  {
   "cell_type": "code",
   "source": [
    "from datasets import load_dataset\n",
    "from transformers import pipeline\n",
    "import evaluate\n",
    "\n",
    "# 1. Load dataset\n",
    "dataset = load_dataset(\"cnn_dailymail\", \"3.0.0\")\n",
    "sample = dataset[\"validation\"][0]  # single sample\n",
    "\n",
    "# 2. Load T5-large summarization pipeline on CPU\n",
    "summarizer = pipeline(\n",
    "    \"summarization\",\n",
    "    model=\"google/flan-t5-large\",\n",
    "    tokenizer=\"google/flan-t5-large\",\n",
    "    device=-1  # CPU\n",
    ")\n",
    "\n",
    "# 3. Summarize the sample\n",
    "summary = summarizer(\n",
    "    \"summarize: \" + sample[\"article\"],\n",
    "    max_length=60,  # short summary for quick eval\n",
    "    min_length=10,\n",
    "    do_sample=False\n",
    ")[0][\"summary_text\"]\n",
    "\n",
    "# 4. Compute ROUGE\n",
    "rouge = evaluate.load(\"rouge\")\n",
    "results = rouge.compute(predictions=[summary], references=[sample[\"highlights\"]])\n",
    "\n",
    "print(\"Quick ROUGE result (1 sample, CPU):\", results)\n"
   ],
   "metadata": {
    "colab": {
     "base_uri": "https://localhost:8080/"
    },
    "id": "c983HracKTAV",
    "executionInfo": {
     "status": "ok",
     "timestamp": 1755320779046,
     "user_tz": -330,
     "elapsed": 553558,
     "user": {
      "displayName": "Keerthana K Unni",
      "userId": "08328964662187661859"
     }
    },
    "outputId": "1a5a26dd-f43c-4b8b-c9b8-f86fe0c28afa"
   },
   "execution_count": 15,
   "outputs": [
    {
     "output_type": "stream",
     "name": "stderr",
     "text": [
      "Device set to use cpu\n",
      "Token indices sequence length is longer than the specified maximum sequence length for this model (1038 > 512). Running this sequence through the model will result in indexing errors\n",
      "Both `max_new_tokens` (=256) and `max_length`(=60) seem to have been set. `max_new_tokens` will take precedence. Please refer to the documentation for more information. (https://huggingface.co/docs/transformers/main/en/main_classes/text_generation)\n"
     ]
    },
    {
     "output_type": "stream",
     "name": "stdout",
     "text": [
      "Quick ROUGE result (1 sample, CPU): {'rouge1': np.float64(0.4090909090909091), 'rouge2': np.float64(0.23809523809523808), 'rougeL': np.float64(0.4090909090909091), 'rougeLsum': np.float64(0.4090909090909091)}\n"
     ]
    }
   ]
  },
  {
   "cell_type": "code",
   "source": [
    "from datasets import load_dataset\n",
    "from transformers import pipeline\n",
    "import evaluate\n",
    "\n",
    "# 1. Load dataset\n",
    "dataset = load_dataset(\"cnn_dailymail\", \"3.0.0\")\n",
    "sample = dataset[\"validation\"][0]  # single sample\n",
    "\n",
    "# 2. Load LongT5 summarization pipeline on CPU\n",
    "model_name = \"google/long-t5-tglobal-base\"  # or another LongT5 checkpoint\n",
    "summarizer = pipeline(\n",
    "    \"summarization\",\n",
    "    model=model_name,\n",
    "    tokenizer=model_name,\n",
    "    device=-1  # CPU\n",
    ")\n",
    "\n",
    "# 3. Summarize the sample\n",
    "summary = summarizer(\n",
    "    \"summarize: \" + sample[\"article\"],\n",
    "    max_length=60,  # short summary for quick eval\n",
    "    min_length=10,\n",
    "    do_sample=False\n",
    ")[0][\"summary_text\"]\n",
    "\n",
    "# 4. Compute ROUGE\n",
    "rouge = evaluate.load(\"rouge\")\n",
    "results = rouge.compute(predictions=[summary], references=[sample[\"highlights\"]])\n",
    "\n",
    "print(\"Quick ROUGE result with LongT5 (1 sample, CPU):\", results)\n"
   ],
   "metadata": {
    "colab": {
     "base_uri": "https://localhost:8080/",
     "height": 281,
     "referenced_widgets": [
      "95b57279b5b54e23b90c9c93b88bbf88",
      "e13f6ccc8f1c45de8717190b287ae46c",
      "d62d2e995f5c430686880d21d501a03b",
      "d64c17d02db84142b4529547088f88f2",
      "d7e634da3ff04634b32c016590451649",
      "79c67c21751341c5bf865ac01f82a7d4",
      "bb60af7a68de46dd81d8a0c5c5cc7619",
      "d019cad559c54197b1da983c586076e3",
      "d4a7ecd9f4cd46e5b624991c7f766dae",
      "8c5c1af1ad8a43a68738f5a4ee30f640",
      "aef4e9290ba041dc88eed7f633a848b5",
      "7436e1a015af4943956dff0e4e91339e",
      "05e650b03f74477f9ce6e53ae5077e5d",
      "7b6c4237c1d74a4eaa2014f993f44e51",
      "cec18eb18d3144bbb789a7cdfd586ef1",
      "53f8e32c386c4163a3829cec12029930",
      "579ce5aa48a3466eaad6b05ac92830c1",
      "f9191383900a43028ee9b6f88f7c2a82",
      "a214e89c0e064547af556ac13ce74750",
      "19691aa294e44ae28e344b848cf396b9",
      "5c1500896a66415193ab8fc65475d7a5",
      "e96cf4547ebd470987f4f9cf56da9433",
      "89e5d9928dc64283a776017fc669ea80",
      "4d0d015c0a34471b94812215a9be9e16",
      "9cf2b91fe75f42cb9c10b3f2087d062d",
      "96661c6ea85a478dac592453ea20ea66",
      "60a0512aa91d4a89b40d0e8f1c14ef91",
      "68cd7b7ebec04e629245b066a8c0db28",
      "ae8a0dc259b941fc8200d817f542830a",
      "13f207b760c14404b3a29229ab305b75",
      "5a1b45178e4b4475b800aa277445982d",
      "c7f4b0dffe08459a8b5e0d22cf21818e",
      "c8bc824b6b3d4af794e00a0225c44522",
      "1268724154e346f9b2915879982f5faf",
      "d640518e7e19460e8f43a54357def460",
      "d9ce8a2c275f49b29efb6c47c049d5c7",
      "2ae26ff66227410bb4cd978acc28d1e8",
      "ea9f9c10e07949089009083415d92002",
      "8d22ae35a6eb4e9f83798a410d5031f0",
      "fe6cc037acc141018dea95b34ffadd16",
      "2a5c4e3c475742a5a68a98a708069cf4",
      "771c3bbb0059485ab07a5cd96c121001",
      "1043b2bab23a48d3ad24fed696d8d7d5",
      "565e4f4db442496eb866f5b107d42f68",
      "fdc4a3baf744403e90da7ea6c8b8cf3a",
      "994dcd0f1ed04609afd795547156d9b1",
      "6de21d56d5434ef68e2edac7836c2722",
      "a1198b45ac564c1d8c907f28c7203231",
      "f2014723b4ef4c02885793137b1c48a2",
      "6dce3b91cce24e8b8975f0c89e02e8db",
      "f085b8009879436fb4d9f1803bc7abae",
      "36099252b4a64f2388ad00322db86314",
      "b5a444b85787412d9aa1616b15ed6b43",
      "4ad7fef8fc8f404ea8bc8e6c8b002609",
      "7f659655502c45cb9d898282d4dd0229",
      "bd1726e81ce8492787ce497d60a4d318",
      "f5dff046f7ce4c0dbcf178d3980aa4c0",
      "d53987c19f564df082aa374605253ac5",
      "22b07fe6d41d4766b41b07bee2f431ca",
      "79c2fbc7eb834aa2ae54d1f12107fef0",
      "7810696b93fa4edeb7806d879fc6efde",
      "689a63c94fb64a70ba27a150a8d22ee2",
      "d47f44bb507f4e488d47f922ce9c8719",
      "ad0cf20f10c84010bda7445e6103d39f",
      "2ae530ee0add4760a3c1341a2e945be0",
      "a56bdab220bf4ea995df087ce7ce055f"
     ]
    },
    "id": "EfDGxy7GR9W4",
    "executionInfo": {
     "status": "ok",
     "timestamp": 1755321273722,
     "user_tz": -330,
     "elapsed": 270400,
     "user": {
      "displayName": "Keerthana K Unni",
      "userId": "08328964662187661859"
     }
    },
    "outputId": "43183577-0486-4ed4-bd45-d4660d37d1c5"
   },
   "execution_count": 16,
   "outputs": [
    {
     "output_type": "display_data",
     "data": {
      "text/plain": [
       "config.json:   0%|          | 0.00/851 [00:00<?, ?B/s]"
      ],
      "application/vnd.jupyter.widget-view+json": {
       "version_major": 2,
       "version_minor": 0,
       "model_id": "95b57279b5b54e23b90c9c93b88bbf88"
      }
     },
     "metadata": {}
    },
    {
     "output_type": "display_data",
     "data": {
      "text/plain": [
       "pytorch_model.bin:   0%|          | 0.00/990M [00:00<?, ?B/s]"
      ],
      "application/vnd.jupyter.widget-view+json": {
       "version_major": 2,
       "version_minor": 0,
       "model_id": "7436e1a015af4943956dff0e4e91339e"
      }
     },
     "metadata": {}
    },
    {
     "output_type": "display_data",
     "data": {
      "text/plain": [
       "model.safetensors:   0%|          | 0.00/990M [00:00<?, ?B/s]"
      ],
      "application/vnd.jupyter.widget-view+json": {
       "version_major": 2,
       "version_minor": 0,
       "model_id": "89e5d9928dc64283a776017fc669ea80"
      }
     },
     "metadata": {}
    },
    {
     "output_type": "display_data",
     "data": {
      "text/plain": [
       "generation_config.json:   0%|          | 0.00/147 [00:00<?, ?B/s]"
      ],
      "application/vnd.jupyter.widget-view+json": {
       "version_major": 2,
       "version_minor": 0,
       "model_id": "1268724154e346f9b2915879982f5faf"
      }
     },
     "metadata": {}
    },
    {
     "output_type": "display_data",
     "data": {
      "text/plain": [
       "spiece.model:   0%|          | 0.00/792k [00:00<?, ?B/s]"
      ],
      "application/vnd.jupyter.widget-view+json": {
       "version_major": 2,
       "version_minor": 0,
       "model_id": "fdc4a3baf744403e90da7ea6c8b8cf3a"
      }
     },
     "metadata": {}
    },
    {
     "output_type": "display_data",
     "data": {
      "text/plain": [
       "tokenizer.json: 0.00B [00:00, ?B/s]"
      ],
      "application/vnd.jupyter.widget-view+json": {
       "version_major": 2,
       "version_minor": 0,
       "model_id": "bd1726e81ce8492787ce497d60a4d318"
      }
     },
     "metadata": {}
    },
    {
     "output_type": "stream",
     "name": "stderr",
     "text": [
      "Device set to use cpu\n",
      "Both `max_new_tokens` (=256) and `max_length`(=60) seem to have been set. `max_new_tokens` will take precedence. Please refer to the documentation for more information. (https://huggingface.co/docs/transformers/main/en/main_classes/text_generation)\n"
     ]
    },
    {
     "output_type": "stream",
     "name": "stdout",
     "text": [
      "Quick ROUGE result with LongT5 (1 sample, CPU): {'rouge1': np.float64(0.08695652173913043), 'rouge2': np.float64(0.0), 'rougeL': np.float64(0.08695652173913043), 'rougeLsum': np.float64(0.08695652173913043)}\n"
     ]
    }
   ]
  },
  {
   "cell_type": "code",
   "source": [
    "from transformers import DistilBertTokenizer, DistilBertModel, GPT2Tokenizer, GPT2LMHeadModel\n",
    "from sklearn.cluster import KMeans\n",
    "import torch\n",
    "\n",
    "# --- Absformer Encoder (DistilBERT) ---\n",
    "encoder_model_name = 'distilbert-base-uncased'\n",
    "try:\n",
    "    encoder_tokenizer = DistilBertTokenizer.from_pretrained(encoder_model_name)\n",
    "    encoder_model = DistilBertModel.from_pretrained(encoder_model_name)\n",
    "    print(f\"Absformer encoder '{encoder_model_name}' loaded successfully.\")\n",
    "except Exception as e:\n",
    "    print(f\"Error loading Absformer encoder '{encoder_model_name}': {e}\")\n",
    "\n",
    "# --- Absformer Decoder (GPT-2) ---\n",
    "decoder_model_name = 'gpt2'\n",
    "try:\n",
    "    decoder_tokenizer = GPT2Tokenizer.from_pretrained(decoder_model_name)\n",
    "    decoder_model = GPT2LMHeadModel.from_pretrained(decoder_model_name)\n",
    "    print(f\"Absformer decoder '{decoder_model_name}' loaded successfully.\")\n",
    "except Exception as e:\n",
    "    print(f\"Error loading Absformer decoder '{decoder_model_name}': {e}\")\n",
    "\n",
    "# Set device to CPU\n",
    "device = torch.device(\"cpu\")\n",
    "encoder_model.to(device)\n",
    "decoder_model.to(device)\n",
    "\n",
    "# Example documents (for quick testing)\n",
    "documents = [\"Document 1 text...\", \"Document 2 text...\", \"Document 3 text...\"]\n",
    "\n",
    "# --- Step 1: Encode and cluster documents ---\n",
    "inputs = encoder_tokenizer(documents, return_tensors='pt', padding=True, truncation=True)\n",
    "with torch.no_grad():\n",
    "    outputs = encoder_model(**inputs)\n",
    "embeddings = outputs.last_hidden_state.mean(dim=1).detach().numpy()\n",
    "\n",
    "num_clusters = 2\n",
    "kmeans = KMeans(n_clusters=num_clusters)\n",
    "kmeans.fit(embeddings)\n",
    "\n",
    "# --- Step 2: Generate summaries for each cluster ---\n",
    "for i in range(num_clusters):\n",
    "    input_ids = decoder_tokenizer.encode(f\"Summarize cluster {i}\", return_tensors='pt')\n",
    "    summary_ids = decoder_model.generate(input_ids, max_length=50)\n",
    "    summary = decoder_tokenizer.decode(summary_ids[0], skip_special_tokens=True)\n",
    "    print(f\"Cluster {i} Summary: {summary}\")\n"
   ],
   "metadata": {
    "colab": {
     "base_uri": "https://localhost:8080/",
     "height": 647,
     "referenced_widgets": [
      "b1da8f414339438da0fa6f4f2b2d01eb",
      "bf31c68680f24068a2ec0ea3ff000cd8",
      "26ce2d461a49490cb205b2aa0f0b0bc5",
      "f5179b7257994363801cf45204300756",
      "e1bb1371229f4606ad9192ba4d16d319",
      "5fcf40fc8fe843e791206f3e9f07443f",
      "111428eec690439bade903b36b95c699",
      "501ae9db1d444882877103e6a1ec03e8",
      "9003568ef4604a74b977ca9d76de2fac",
      "deb9b213613a469a94afcdf82474d634",
      "9a4abc318d4543f7a82c30a534a309c7",
      "8aa2cf2cd425481d8e96884d5d1df2ff",
      "2e13948ad4434bba89831c24680f3e62",
      "f052e1e743f14170bf6be67699fbb60b",
      "78ee65c7b82d454e9c5b94574ba27a9b",
      "b43541918192478997a79e7edc5a09d9",
      "0a54fa5b5bea4511abcc697f22fa78cd",
      "cbe15930b50240248cc43ca9e7376287",
      "57a58c4f28ae4c1ba530ff772ec66720",
      "8e49f0ee4210448c806ef8d414503ef3",
      "8b3bfccf73e74ef29524287b19d5bc54",
      "41f6935d0b8747139cc711665e48f20b",
      "496c36b2bbe14ec1b75c066f93c0f6a2",
      "21301db1c06f430ba141ad9b0b0f825e",
      "52e8d8bdfb0340b695cbb3999870610e",
      "895a09baf8ee43d2bed8538603212480",
      "ed8e50bc378844a08742dde9a5003922",
      "29c36c9bf5fb45c2b7d09e60b31abfb8",
      "fdfadf1f51f74a9f8d62dbeb08c46b34",
      "8c4efb7fb23f48a5a2d4f190e49ad4b5",
      "8c82c2de4d27475e97e4b23437ef08d8",
      "f29c321f281e4a46ae14f6dfef8d7300",
      "be04aacd25a04e09a12ed96c086b3c9f",
      "35ffdcb552e9480a8ac3a98250c09af9",
      "401be0a9c5344c5780ac803dc61330a0",
      "f0ef36c887ee4626b969c990b19d88b3",
      "0c8bdcb8b59f4689947b6af81fc0b261",
      "73649f3f62ca4bc6a649b85f713b6a44",
      "5d795284b3b24e6a89067822868de5ec",
      "0aada3e5e4724afb8ee2867e6d89ba29",
      "a7db2daab48849eb8b0d99c75c291a2b",
      "09e8c6b5a312448aac26556b6cfc06a8",
      "02f5e0d76e3d46debdd729d012551949",
      "1776518511ec4a2eb3881c1e4c6bac74",
      "93e1870df4154ff5ae2013b063adf05a",
      "ab979c718bd64609bf9cc51465d88569",
      "8b803283fe4b42769174c8514ab881ab",
      "4b62ded3ee104ad9bbb063aac6bfcc93",
      "e6e7f13f5bc14e9395b2a25707eca23b",
      "fb04d7a3eee54fa78265d928afc32f04",
      "4a9f4401ebd0462b8e6d00b449cea69d",
      "30e48368316a4b0ba75de6ddd5befbc6",
      "89a6182745754277abd77788124bd379",
      "a8f73ac49eed418cb3b6906a0155e440",
      "5ddb12ab979e42fe8806ecc555cd486f",
      "7108b50470f6411eac348a1a596a5d82",
      "941ce710e1bf43a099c6c6d812895c26",
      "6dc3e34ab12e411f939af71511641eb2",
      "3f8ce4e8cba74003857810db365077e2",
      "e8793c50185c44fbad9a4424f4fefe05",
      "d7e8541016484059a4813e20e770efd0",
      "3cec84d28ba5478081329ed399323d25",
      "4d7c1170aa2140908e04c853d7b7a708",
      "a35ff1f09c5d4c75a89b410bb1eb6099",
      "f5c0e130d6e4436d837b1187d315cbab",
      "a637f15741ee47dba71ce5c297fe99e2",
      "219334a4c4b14304b9e1c1b236df9007",
      "3afe863fc57f417e982a883c2dad4212",
      "92f9350f5af24d189173edeb499957f9",
      "e16728a24c2943c4850a31d76d068089",
      "e1c8cc4a6a6c4817b982940314cad5b6",
      "8e82a3a34e514278b8be1535ad0a00d8",
      "6b9aca44eaa64eef83b0ea47427a1e08",
      "8d45fe4972fb40658246e4224d8868ba",
      "fbe97a8962d34df4ab1a8f4a3212e70f",
      "c19f38b7e9384a3a896eaf01477a7ed5",
      "eb9ea7512de740ed99f65177bfed85ec",
      "62dbf7d2a74a41e4bc7253748bb084f9",
      "1a7616a2a9da40a8b5ac05cdbfc5142e",
      "85cdca5791f945dca4f083d4fab391d3",
      "221defab00aa45e69b520b08bd3543b2",
      "6984fac3c54b47ab9ce999d0aeb91b03",
      "09a87b694c6645079d39ae2d7f91bbdb",
      "5d311d32162442ddbd3adf4da0221fef",
      "cd53d1ee59604e3582f563d194f700d6",
      "74473a17960743bd9f0f43484848b72a",
      "37dbfc74d0fc492a92da52eb2281ec4e",
      "30c7b69326fd41f18b09a84cd5cb764d",
      "6475a42b73cd446785c684d9f489da67",
      "de945b5075244ababcd58a7caa448f84",
      "2c4c66a06e224659accf6c9f8d908469",
      "f8cdf997d26e40d78c5645cc4b7c2954",
      "5815fa38ce5d4987bad7cf37b6ce7a3c",
      "70326f8eef7244b590d58ee5eafe500c",
      "7de9943301ae40c481c82a24aafdf905",
      "0a29725d61ac49fda70e432e3a1f2a2a",
      "40a7fec331064497842aaaa801f2fd33",
      "0f2bd619529e4f588959a4bc081087b6",
      "1dabe3d544a7410b85035e3f6d436927",
      "874488b099f34236a5f408fd99869d6a",
      "2cdd24126cc04939b8d69d1f3c70a622",
      "825a8450430a481b9383e5a2e1b8538b",
      "8a6f7ae9696d45a4a21505d39cdd7c86",
      "f531db6886904146b0511730509bccab",
      "6c28b395c16d419cba7230ecac357334",
      "dae76d4154d340638d6747f06bc9878a",
      "565347986f694333bf65f31ce5298f8f",
      "a73df8c1342c42a49639f9e6e352e292",
      "f6f2e68342624fd59a1a87c75ad9e093",
      "2ebf8cbc4b0e425c8e48e3953c44300a",
      "bc652502905f49dd8a05cff80294d0c1",
      "57e16c381a374cc7b241233957ff6034",
      "64fbdbdfe112456dafac4f393f4ae6c2",
      "8c1d965535f2429e8fef87e2fdae05a5",
      "c02603726d924e13b7510f9379f02d38",
      "6f853fc0b25d402194215d2feb4528d1",
      "23f71f202c594295afb999b9e5a2906c",
      "261c3526ef694493a9040869c733bdb2",
      "9e4970e1df214ba28667dfdace11cfbe",
      "b0511ee5148a4ff99e09707be005cdfb",
      "5a3300550e53438e9112f6e4e24edc76",
      "da67f1a8ace541608fb2e841226d45dd",
      "1d8017e532894f7eafd26ecaf999e1a4",
      "a55779f7ebd641f185ae053b5d7cda7b",
      "f37ff840fff74d6e9d8259f398f5ec4d",
      "4f41785d72524c33948751903ccf1c6d",
      "9f76e7f598e5422b9c0a17e25811e7a9",
      "efc4b8d6147341b18736350a241d4960",
      "bf52c7f2df7749e28abac332427cc114",
      "a349cea6a2b84e8293f17a75f15e2170",
      "1606bbe924984c1d84f77c0dd59e0dbb",
      "9e431c848ef245a4ab56deb3f091183c"
     ]
    },
    "id": "j5QjV1lGVASL",
    "executionInfo": {
     "status": "ok",
     "timestamp": 1755321831757,
     "user_tz": -330,
     "elapsed": 94510,
     "user": {
      "displayName": "Keerthana K Unni",
      "userId": "08328964662187661859"
     }
    },
    "outputId": "a1e480e8-fba3-4108-e4f7-c2798825b484"
   },
   "execution_count": 17,
   "outputs": [
    {
     "output_type": "display_data",
     "data": {
      "text/plain": [
       "tokenizer_config.json:   0%|          | 0.00/48.0 [00:00<?, ?B/s]"
      ],
      "application/vnd.jupyter.widget-view+json": {
       "version_major": 2,
       "version_minor": 0,
       "model_id": "b1da8f414339438da0fa6f4f2b2d01eb"
      }
     },
     "metadata": {}
    },
    {
     "output_type": "display_data",
     "data": {
      "text/plain": [
       "vocab.txt:   0%|          | 0.00/232k [00:00<?, ?B/s]"
      ],
      "application/vnd.jupyter.widget-view+json": {
       "version_major": 2,
       "version_minor": 0,
       "model_id": "8aa2cf2cd425481d8e96884d5d1df2ff"
      }
     },
     "metadata": {}
    },
    {
     "output_type": "display_data",
     "data": {
      "text/plain": [
       "tokenizer.json:   0%|          | 0.00/466k [00:00<?, ?B/s]"
      ],
      "application/vnd.jupyter.widget-view+json": {
       "version_major": 2,
       "version_minor": 0,
       "model_id": "496c36b2bbe14ec1b75c066f93c0f6a2"
      }
     },
     "metadata": {}
    },
    {
     "output_type": "display_data",
     "data": {
      "text/plain": [
       "config.json:   0%|          | 0.00/483 [00:00<?, ?B/s]"
      ],
      "application/vnd.jupyter.widget-view+json": {
       "version_major": 2,
       "version_minor": 0,
       "model_id": "35ffdcb552e9480a8ac3a98250c09af9"
      }
     },
     "metadata": {}
    },
    {
     "output_type": "display_data",
     "data": {
      "text/plain": [
       "model.safetensors:   0%|          | 0.00/268M [00:00<?, ?B/s]"
      ],
      "application/vnd.jupyter.widget-view+json": {
       "version_major": 2,
       "version_minor": 0,
       "model_id": "93e1870df4154ff5ae2013b063adf05a"
      }
     },
     "metadata": {}
    },
    {
     "output_type": "stream",
     "name": "stdout",
     "text": [
      "Absformer encoder 'distilbert-base-uncased' loaded successfully.\n"
     ]
    },
    {
     "output_type": "display_data",
     "data": {
      "text/plain": [
       "tokenizer_config.json:   0%|          | 0.00/26.0 [00:00<?, ?B/s]"
      ],
      "application/vnd.jupyter.widget-view+json": {
       "version_major": 2,
       "version_minor": 0,
       "model_id": "7108b50470f6411eac348a1a596a5d82"
      }
     },
     "metadata": {}
    },
    {
     "output_type": "display_data",
     "data": {
      "text/plain": [
       "vocab.json:   0%|          | 0.00/1.04M [00:00<?, ?B/s]"
      ],
      "application/vnd.jupyter.widget-view+json": {
       "version_major": 2,
       "version_minor": 0,
       "model_id": "219334a4c4b14304b9e1c1b236df9007"
      }
     },
     "metadata": {}
    },
    {
     "output_type": "display_data",
     "data": {
      "text/plain": [
       "merges.txt:   0%|          | 0.00/456k [00:00<?, ?B/s]"
      ],
      "application/vnd.jupyter.widget-view+json": {
       "version_major": 2,
       "version_minor": 0,
       "model_id": "62dbf7d2a74a41e4bc7253748bb084f9"
      }
     },
     "metadata": {}
    },
    {
     "output_type": "display_data",
     "data": {
      "text/plain": [
       "tokenizer.json:   0%|          | 0.00/1.36M [00:00<?, ?B/s]"
      ],
      "application/vnd.jupyter.widget-view+json": {
       "version_major": 2,
       "version_minor": 0,
       "model_id": "6475a42b73cd446785c684d9f489da67"
      }
     },
     "metadata": {}
    },
    {
     "output_type": "display_data",
     "data": {
      "text/plain": [
       "config.json:   0%|          | 0.00/665 [00:00<?, ?B/s]"
      ],
      "application/vnd.jupyter.widget-view+json": {
       "version_major": 2,
       "version_minor": 0,
       "model_id": "874488b099f34236a5f408fd99869d6a"
      }
     },
     "metadata": {}
    },
    {
     "output_type": "display_data",
     "data": {
      "text/plain": [
       "model.safetensors:   0%|          | 0.00/548M [00:00<?, ?B/s]"
      ],
      "application/vnd.jupyter.widget-view+json": {
       "version_major": 2,
       "version_minor": 0,
       "model_id": "bc652502905f49dd8a05cff80294d0c1"
      }
     },
     "metadata": {}
    },
    {
     "output_type": "display_data",
     "data": {
      "text/plain": [
       "generation_config.json:   0%|          | 0.00/124 [00:00<?, ?B/s]"
      ],
      "application/vnd.jupyter.widget-view+json": {
       "version_major": 2,
       "version_minor": 0,
       "model_id": "da67f1a8ace541608fb2e841226d45dd"
      }
     },
     "metadata": {}
    },
    {
     "output_type": "stream",
     "name": "stdout",
     "text": [
      "Absformer decoder 'gpt2' loaded successfully.\n"
     ]
    },
    {
     "output_type": "stream",
     "name": "stderr",
     "text": [
      "The attention mask and the pad token id were not set. As a consequence, you may observe unexpected behavior. Please pass your input's `attention_mask` to obtain reliable results.\n",
      "Setting `pad_token_id` to `eos_token_id`:50256 for open-end generation.\n",
      "The attention mask is not set and cannot be inferred from input because pad token is same as eos token. As a consequence, you may observe unexpected behavior. Please pass your input's `attention_mask` to obtain reliable results.\n",
      "The attention mask and the pad token id were not set. As a consequence, you may observe unexpected behavior. Please pass your input's `attention_mask` to obtain reliable results.\n",
      "Setting `pad_token_id` to `eos_token_id`:50256 for open-end generation.\n"
     ]
    },
    {
     "output_type": "stream",
     "name": "stdout",
     "text": [
      "Cluster 0 Summary: Summarize cluster 0.5.0.0 (1.0.0.0)\n",
      "\n",
      "- Added support for the new \"C:\\Program Files (x86)\\Steam\\steamapps\\common\\SpaceEngineers\\Content\\Data\\Data\n",
      "Cluster 1 Summary: Summarize cluster 1.0.0.0.1:\n",
      "\n",
      "- Added support for the new \"C:\\Program Files (x86)\\Steam\\steamapps\\common\\SpaceEngineers\\Content\\Data\\Data\\Data\\Data\\Data\n"
     ]
    }
   ]
  },
  {
   "cell_type": "code",
   "source": [
    "import torch\n",
    "from datasets import load_dataset\n",
    "import evaluate\n",
    "\n",
    "# 1. Load dataset\n",
    "dataset = load_dataset(\"cnn_dailymail\", \"3.0.0\")\n",
    "sample = dataset[\"validation\"][0]  # single sample for quick eval\n",
    "\n",
    "# 2. Encode the document using Absformer encoder (DistilBERT)\n",
    "inputs = encoder_tokenizer(\n",
    "    sample[\"article\"],\n",
    "    return_tensors=\"pt\",\n",
    "    truncation=True,\n",
    "    padding=True\n",
    ")\n",
    "\n",
    "with torch.no_grad():\n",
    "    encoder_outputs = encoder_model(**inputs)\n",
    "embedding = encoder_outputs.last_hidden_state.mean(dim=1)  # simple document embedding\n",
    "\n",
    "# 3. Generate summary with Absformer decoder (GPT-2)\n",
    "prompt = \"Summarize the document:\"\n",
    "input_ids = decoder_tokenizer.encode(prompt, return_tensors=\"pt\")\n",
    "\n",
    "summary_ids = decoder_model.generate(\n",
    "    input_ids=input_ids,\n",
    "    max_length=60,       # short summary for quick CPU evaluation\n",
    "    num_beams=4,\n",
    "    early_stopping=True\n",
    ")\n",
    "\n",
    "summary = decoder_tokenizer.decode(summary_ids[0], skip_special_tokens=True)\n",
    "\n",
    "# 4. Compute ROUGE\n",
    "rouge = evaluate.load(\"rouge\")\n",
    "results = rouge.compute(predictions=[summary], references=[sample[\"highlights\"]])\n",
    "\n",
    "print(\"Quick ROUGE result with Absformer-like approach (1 sample, CPU):\", results)\n",
    "print(\"Generated Summary:\", summary)\n"
   ],
   "metadata": {
    "colab": {
     "base_uri": "https://localhost:8080/"
    },
    "id": "XYPfkeO7VbbT",
    "executionInfo": {
     "status": "ok",
     "timestamp": 1755322033094,
     "user_tz": -330,
     "elapsed": 22024,
     "user": {
      "displayName": "Keerthana K Unni",
      "userId": "08328964662187661859"
     }
    },
    "outputId": "28ad88c7-30ad-4319-b93a-5f14365a6589"
   },
   "execution_count": 18,
   "outputs": [
    {
     "output_type": "stream",
     "name": "stderr",
     "text": [
      "The attention mask and the pad token id were not set. As a consequence, you may observe unexpected behavior. Please pass your input's `attention_mask` to obtain reliable results.\n",
      "Setting `pad_token_id` to `eos_token_id`:50256 for open-end generation.\n"
     ]
    },
    {
     "output_type": "stream",
     "name": "stdout",
     "text": [
      "Quick ROUGE result with Absformer-like approach (1 sample, CPU): {'rouge1': np.float64(0.0), 'rouge2': np.float64(0.0), 'rougeL': np.float64(0.0), 'rougeLsum': np.float64(0.0)}\n",
      "Generated Summary: Summarize the document:\n",
      "\n",
      "<script type=\"text/javascript\"></script> <script type=\"text/javascript\"></script> <script type=\"text/javascript\"></script> <script type=\"text/javascript\"></script> <script type=\"text/javascript\"></script> <script\n"
     ]
    }
   ]
  },
  {
   "cell_type": "code",
   "source": [
    "# Install required libraries (uncomment if not installed)\n",
    "# !pip install datasets transformers sentence-transformers networkx evaluate\n",
    "\n",
    "from datasets import load_dataset\n",
    "from sentence_transformers import SentenceTransformer\n",
    "import networkx as nx\n",
    "import numpy as np\n",
    "import evaluate\n",
    "\n",
    "# 1. Load a single sample\n",
    "dataset = load_dataset(\"cnn_dailymail\", \"3.0.0\")\n",
    "sample = dataset[\"validation\"][0]  # one sample\n",
    "\n",
    "# 2. Split article into sentences\n",
    "import re\n",
    "sentences = re.split(r'(?<=[.!?]) +', sample[\"article\"])\n",
    "\n",
    "# 3. Embed sentences using a lightweight SentenceTransformer model\n",
    "embedder = SentenceTransformer('all-MiniLM-L6-v2')  # small and fast model\n",
    "sentence_embeddings = embedder.encode(sentences)\n",
    "\n",
    "# 4. Build similarity graph\n",
    "G = nx.Graph()\n",
    "for i, emb1 in enumerate(sentence_embeddings):\n",
    "    for j, emb2 in enumerate(sentence_embeddings):\n",
    "        if i != j:\n",
    "            sim = np.dot(emb1, emb2) / (np.linalg.norm(emb1) * np.linalg.norm(emb2))\n",
    "            G.add_edge(i, j, weight=sim)\n",
    "\n",
    "# 5. Compute PageRank scores\n",
    "pr = nx.pagerank(G)  # fix: use nx.pagerank instead of pagerank_numpy\n",
    "ranked_sentences = sorted(pr.items(), key=lambda x: x[1], reverse=True)\n",
    "\n",
    "# 6. Select top 1 sentence (quick summary)\n",
    "top_sentence_idx = [idx for idx, score in ranked_sentences[:1]]\n",
    "summary = \" \".join([sentences[idx] for idx in top_sentence_idx])\n",
    "\n",
    "print(\"Quick TG-MultiSum summary (1 sample, CPU):\")\n",
    "print(summary)\n",
    "\n",
    "# 7. Compute ROUGE\n",
    "rouge = evaluate.load(\"rouge\")\n",
    "results = rouge.compute(predictions=[summary], references=[sample[\"highlights\"]])\n",
    "print(\"Quick ROUGE result (1 sample, CPU):\", results)\n"
   ],
   "metadata": {
    "colab": {
     "base_uri": "https://localhost:8080/",
     "height": 441,
     "referenced_widgets": [
      "2d806d1b7c46413b84ea4a29d7e3d537",
      "92a37b4412ae474ba4e9affa46537809",
      "e6f55e013d3e40f5b6edf9ffd013c6fb",
      "7282b37168b2479da792f3bc47fe672a",
      "2c0bc0858ae14093932b065fef8079e5",
      "d8b13188396d4f44aaef6b69e6af5723",
      "7dc0ed47ccbe4858846ac2f0e4ad2e3e",
      "894df86b86e34a70a7268e3a8285c84a",
      "7ba51228ea0e4caca35c11e8a76bdafb",
      "22de559798c0461d91c06f13fed6bdaa",
      "da367f08643e40f9aa82da3c2fc78048",
      "c1f14eb89dad4aeba75520ea66513c0c",
      "1cbaf1f04a4b41b6bbf66fa86da1bb0a",
      "b35211d6344044c88119ef51d3dd78f0",
      "fe17051e1c884b04bb5675fd4f8d0734",
      "3727454b601046e184c338d61fabe4ae",
      "8a4550d7841344e18764eca920eed19a",
      "e7d4b8c07e4345ddb7ac9352101f3681",
      "59028f34800a408b9e8bf05ae934f03b",
      "6b2f8ec8e7c24dffac2947f8879c2723",
      "294fa3ae08dd41738013c0c7335b1024",
      "3ddb24edc1ba4f77aa1f9cf9b38779e6",
      "3c0c111209ea4fafaedcd72784910313",
      "f2bc52cfd8a74c5980f6c7543a57af65",
      "42d8689a73724220b5b6e3ec17804d03",
      "c2ebca4c1a664049a16257dea4bce7c0",
      "5386ceb27fa34569895bb3fb170bbf5d",
      "d04a91d5ce734ab0af3fda32ac0e132e",
      "53ceb7128953477c8fedb46827226358",
      "483e2507cc1f452d98a6fe88a4ee4803",
      "fb53a8faee5f4185a3b2e9f083d42900",
      "6bae2b6dd83d48edb3f640e27a370fe9",
      "461f66f32d804a428ec5ea46aa947edf",
      "ab0f870a164f41fd93381277d0e79903",
      "e007243a14a84481a4510745172e8185",
      "0a663700b1ac42f08a8574286c7b5633",
      "35e5375d43eb4572b2e3e3d8eaa0c246",
      "fcee8e9becde42a1a934b8c1620a5227",
      "44cfd7b21cbd457f9884ba44a5cf7410",
      "dd3ba2889d0e49e993dd362b1651772a",
      "7d95a002a9634fb3a09804e5d4f1d7b1",
      "b9d1b033a99549ac944d0cbac228924d",
      "153f8faaed134c1fae881ea38f35c715",
      "31d4d818949142a7b4a9ef9e8c975216",
      "2eef77a3451c4e16be9ea4338eed53ee",
      "35aebbaf66844b6f9d99b23466f8d42f",
      "417fd67eb0dc41ea91b76f25bd8c6601",
      "740a20727f984d08ba9c1aa6648f3c28",
      "1fa7f2dc87b64541a14b48eaeca1e4f2",
      "4d20b23fdd1340c1acfe133b12fbbbeb",
      "97b52c88678f4835959d343793fe186f",
      "05a4249a5cca45e6acbdf8ee7ff6823f",
      "d1730f37df8748cf8aa3871c2911c0ca",
      "4e1f7dbbc0e14ee59defb57edd32e948",
      "7ee7c90ce45f407895d56e6607952665",
      "e2d8214e6bc84c7fa59c99bbd3112e55",
      "7c0489d6a855447abab1779b75c0a9a9",
      "b53c0e7a3a97402cbc5f75aac124cf88",
      "ebf80bb9918f4f4d9edd9016d7176021",
      "a0160a0569154c47aa6175bd5ae9881d",
      "f492346145a843559eda7501c0eb576f",
      "5e78db1353af4831b2b1bd481dd779f3",
      "8320dc8385c84393a1846de383561542",
      "486fce91ed664b94adfeb7a50d4a3c1e",
      "b47ad4e4aa1b4d09ae4cd4f2258ede51",
      "d3d83bd686f64ba6853f0b258081eaa6",
      "a0e2fae72ab74e3c865269135fcce5bd",
      "042ed38b9cee4a3ab080515e83a19efc",
      "7f96e29aaa1f4a5793bc472706b1acf2",
      "f0ce7bc945784d57ac981019cc0f1dfa",
      "c7d095621abf48148b12a0661e007970",
      "eae9ec4f8cc949fdb1e3308641a3e008",
      "f5bea1c2c52c47cfa41a255d5f0741c3",
      "9c5b29ca1f6b4b5e889ddcaf4c90f443",
      "1e5af5705ae14ddf800a6e2fdf7d5b2c",
      "fd30deecd5f24f5886ca66ef2fc77086",
      "84aca015572744ea8545ac70a50e8fed",
      "ed5d0883e11a4e0ab510268e44da715e",
      "66d229d9e2764b4a95509f0c542cfadc",
      "22dfa7ae60aa4bcfb455b30dac0c6a81",
      "1b97fcb1e3b54613adc00f38cd46bf96",
      "39b76113f94040d18624a953fe3013a1",
      "e7b52e04a0a04aa0b0f3bc03d306e40d",
      "1fd9386f30844a1782c75c61ca34feaf",
      "1b8b3eaa65d74ca7b851e155a6f8127e",
      "6d3160ab4c4c49af950f13c234847148",
      "b9135f774c8f49508a176b233828d3a8",
      "87bec8ab57cf42ccafc897e339c9acef",
      "c671004b9d164c06bbda1792b50443cb",
      "9f34556925354d0b99c08b0ef40d1afa",
      "723ab20e437243688542f213c3f3cd5f",
      "ef6edf84ee294bd6b021f0efc6e82f41",
      "65957038a6bc4b12916cfe6702b69928",
      "cbfc75a6a7824e96b18d0db92c9b5559",
      "02ac83bcb7a84055aeb48e05eccdc0da",
      "58786747eabe417a832f982a5760d436",
      "552df330c9ef41e8a9b2b042624bd0d9",
      "811034e906d84f688dbdc165a76f6766",
      "f4ace6b354124139a0cd9941f7b83f74",
      "61774d673ba540d2985ce4143c715c83",
      "293582270ef34c23877e63adc3652e8f",
      "089a24f815834bdeab4bcfbe365676d5",
      "c5e94f728f664cc08bb626a1d040f684",
      "a30c09b4666041d9a4ecd315949c7944",
      "b3fe03ebb5fe434db5226e9d1ebd54fe",
      "acb8e56b844e42f084046cf5cd4a2ba3",
      "ebb906726dbd41638be56c7fad5c52fe",
      "61d413437edb4052a3a5a0e0469587e7",
      "bf45929ecfe9481c82bec631c7ac6e44",
      "640f29b003bc453f99a154d69df376da",
      "e419e2414d444cc580059569258d06af",
      "b37748e26b43497f8b26940103a6fd9a",
      "9a3749a40cd548f7ba1b6216c461697a",
      "5248e1d47cae48a685cee795ef3ee833",
      "c90928ae524f4a48a7c9933359a5c0c5",
      "9b2ca7323379474c8ddab2465b63480b",
      "03d57f308bd049baadbdba19624b8749",
      "5b917594e71b4661a7c6531fc25a7ef8",
      "06b379ad8ce945fbb272ac1e7b899eef",
      "a3403e1cffb84444925c3ff266329b1a",
      "846af94d951d4f299d4ccf6a589647ca"
     ]
    },
    "id": "m86EQsSiWkAo",
    "executionInfo": {
     "status": "ok",
     "timestamp": 1755322356448,
     "user_tz": -330,
     "elapsed": 14696,
     "user": {
      "displayName": "Keerthana K Unni",
      "userId": "08328964662187661859"
     }
    },
    "outputId": "6bb0bfa6-27ae-43bf-dcd5-176a7177c9f6"
   },
   "execution_count": 20,
   "outputs": [
    {
     "output_type": "display_data",
     "data": {
      "text/plain": [
       "modules.json:   0%|          | 0.00/349 [00:00<?, ?B/s]"
      ],
      "application/vnd.jupyter.widget-view+json": {
       "version_major": 2,
       "version_minor": 0,
       "model_id": "2d806d1b7c46413b84ea4a29d7e3d537"
      }
     },
     "metadata": {}
    },
    {
     "output_type": "display_data",
     "data": {
      "text/plain": [
       "config_sentence_transformers.json:   0%|          | 0.00/116 [00:00<?, ?B/s]"
      ],
      "application/vnd.jupyter.widget-view+json": {
       "version_major": 2,
       "version_minor": 0,
       "model_id": "c1f14eb89dad4aeba75520ea66513c0c"
      }
     },
     "metadata": {}
    },
    {
     "output_type": "display_data",
     "data": {
      "text/plain": [
       "README.md: 0.00B [00:00, ?B/s]"
      ],
      "application/vnd.jupyter.widget-view+json": {
       "version_major": 2,
       "version_minor": 0,
       "model_id": "3c0c111209ea4fafaedcd72784910313"
      }
     },
     "metadata": {}
    },
    {
     "output_type": "display_data",
     "data": {
      "text/plain": [
       "sentence_bert_config.json:   0%|          | 0.00/53.0 [00:00<?, ?B/s]"
      ],
      "application/vnd.jupyter.widget-view+json": {
       "version_major": 2,
       "version_minor": 0,
       "model_id": "ab0f870a164f41fd93381277d0e79903"
      }
     },
     "metadata": {}
    },
    {
     "output_type": "display_data",
     "data": {
      "text/plain": [
       "config.json:   0%|          | 0.00/612 [00:00<?, ?B/s]"
      ],
      "application/vnd.jupyter.widget-view+json": {
       "version_major": 2,
       "version_minor": 0,
       "model_id": "2eef77a3451c4e16be9ea4338eed53ee"
      }
     },
     "metadata": {}
    },
    {
     "output_type": "display_data",
     "data": {
      "text/plain": [
       "model.safetensors:   0%|          | 0.00/90.9M [00:00<?, ?B/s]"
      ],
      "application/vnd.jupyter.widget-view+json": {
       "version_major": 2,
       "version_minor": 0,
       "model_id": "e2d8214e6bc84c7fa59c99bbd3112e55"
      }
     },
     "metadata": {}
    },
    {
     "output_type": "display_data",
     "data": {
      "text/plain": [
       "tokenizer_config.json:   0%|          | 0.00/350 [00:00<?, ?B/s]"
      ],
      "application/vnd.jupyter.widget-view+json": {
       "version_major": 2,
       "version_minor": 0,
       "model_id": "a0e2fae72ab74e3c865269135fcce5bd"
      }
     },
     "metadata": {}
    },
    {
     "output_type": "display_data",
     "data": {
      "text/plain": [
       "vocab.txt: 0.00B [00:00, ?B/s]"
      ],
      "application/vnd.jupyter.widget-view+json": {
       "version_major": 2,
       "version_minor": 0,
       "model_id": "ed5d0883e11a4e0ab510268e44da715e"
      }
     },
     "metadata": {}
    },
    {
     "output_type": "display_data",
     "data": {
      "text/plain": [
       "tokenizer.json: 0.00B [00:00, ?B/s]"
      ],
      "application/vnd.jupyter.widget-view+json": {
       "version_major": 2,
       "version_minor": 0,
       "model_id": "c671004b9d164c06bbda1792b50443cb"
      }
     },
     "metadata": {}
    },
    {
     "output_type": "display_data",
     "data": {
      "text/plain": [
       "special_tokens_map.json:   0%|          | 0.00/112 [00:00<?, ?B/s]"
      ],
      "application/vnd.jupyter.widget-view+json": {
       "version_major": 2,
       "version_minor": 0,
       "model_id": "61774d673ba540d2985ce4143c715c83"
      }
     },
     "metadata": {}
    },
    {
     "output_type": "display_data",
     "data": {
      "text/plain": [
       "config.json:   0%|          | 0.00/190 [00:00<?, ?B/s]"
      ],
      "application/vnd.jupyter.widget-view+json": {
       "version_major": 2,
       "version_minor": 0,
       "model_id": "e419e2414d444cc580059569258d06af"
      }
     },
     "metadata": {}
    },
    {
     "output_type": "stream",
     "name": "stdout",
     "text": [
      "Quick TG-MultiSum summary (1 sample, CPU):\n",
      "That donor's kidney went to the next recipient, who was also paired with a donor, and so on.\n",
      "Quick ROUGE result (1 sample, CPU): {'rouge1': np.float64(0.14285714285714288), 'rouge2': np.float64(0.0), 'rougeL': np.float64(0.14285714285714288), 'rougeLsum': np.float64(0.14285714285714288)}\n"
     ]
    }
   ]
  },
  {
   "cell_type": "code",
   "source": [
    "# Install required libraries (uncomment if not installed)\n",
    "# !pip install datasets transformers sentence-transformers evaluate\n",
    "\n",
    "from datasets import load_dataset\n",
    "from sentence_transformers import SentenceTransformer\n",
    "from transformers import T5ForConditionalGeneration, T5Tokenizer\n",
    "import evaluate\n",
    "import torch\n",
    "import re\n",
    "\n",
    "# 1️⃣ Load a single sample from CNN/DailyMail\n",
    "dataset = load_dataset(\"cnn_dailymail\", \"3.0.0\")\n",
    "sample = dataset[\"validation\"][0]  # one sample\n",
    "\n",
    "# 2️⃣ Split article into sentences (sentence-level encoding)\n",
    "sentences = re.split(r'(?<=[.!?]) +', sample[\"article\"])\n",
    "\n",
    "# 3️⃣ Encode sentences with a lightweight SentenceTransformer (simulate sentence-level transformer)\n",
    "sentence_embedder = SentenceTransformer('all-MiniLM-L6-v2')  # small & fast on CPU\n",
    "sentence_embeddings = sentence_embedder.encode(sentences)\n",
    "\n",
    "# 4️⃣ Aggregate top sentences by similarity to all sentences (simple hierarchical scoring)\n",
    "import numpy as np\n",
    "similarity_matrix = np.dot(sentence_embeddings, sentence_embeddings.T)\n",
    "scores = similarity_matrix.sum(axis=1)\n",
    "top_sentence_idx = scores.argsort()[-2:]  # pick top 2 sentences for quick summary\n",
    "top_sentences = [sentences[i] for i in sorted(top_sentence_idx)]\n",
    "\n",
    "# 5️⃣ Combine top sentences into a pseudo-document summary\n",
    "pseudo_summary_input = \" \".join(top_sentences)\n",
    "\n",
    "# 6️⃣ Load T5-small for refinement (document-level transformer)\n",
    "t5_model_name = \"t5-small\"  # fast for CPU\n",
    "tokenizer = T5Tokenizer.from_pretrained(t5_model_name)\n",
    "model = T5ForConditionalGeneration.from_pretrained(t5_model_name)\n",
    "model.to(\"cpu\")\n",
    "\n",
    "# 7️⃣ Tokenize and generate final summary\n",
    "inputs = tokenizer(\"summarize: \" + pseudo_summary_input, return_tensors=\"pt\", truncation=True, max_length=256)\n",
    "summary_ids = model.generate(inputs[\"input_ids\"], max_length=60, min_length=10, num_beams=4)\n",
    "summary = tokenizer.decode(summary_ids[0], skip_special_tokens=True)\n",
    "\n",
    "print(\"Quick Hierarchical Transformer-style summary (1 sample, CPU):\")\n",
    "print(summary)\n",
    "\n",
    "# 8️⃣ Compute ROUGE\n",
    "rouge = evaluate.load(\"rouge\")\n",
    "results = rouge.compute(predictions=[summary], references=[sample[\"highlights\"]])\n",
    "print(\"Quick ROUGE result (1 sample, CPU):\", results)\n"
   ],
   "metadata": {
    "colab": {
     "base_uri": "https://localhost:8080/",
     "height": 281,
     "referenced_widgets": [
      "f4b699b8d0c44106a203c4abada704fb",
      "911216db539048d785b8d875ae33ad7b",
      "4ee2b2fd5be44bccb50def9e0a37c9ec",
      "1a2cd2ac68d24ebba8bca032a4d383bc",
      "20e8900f983647d89e18fd45e188c1a4",
      "8874047241b24ac6b51664ee770fd79f",
      "d912bc6979a34f6b9059df552c4e0d5f",
      "7917a41b84fd4500933cdec2528a34c7",
      "7f64a4a2b83846e28b242421d1753465",
      "ee84e85605624e01ba145e229dff9aaf",
      "6883a9fc4e014626883243dbc95fc2ba",
      "ff6accc7be1a4932bdbcda9da7ec24a7",
      "02a9dc1ac8ea4586bbe2196c2e657440",
      "a448c83b399a48668741398fbec25ec7",
      "31b452bff1664ba3b09138d94430607c",
      "261802ae45714836b93547c7d1e9c4be",
      "97f3d61971d34b8d84d0b78a10aba58c",
      "5d2862526bec4ecf8864b4e23e15bedf",
      "8a4919f179ca4c87aa1291589f4ac934",
      "789537a7278e46e097df3e2a592d718f",
      "adfd8d161f414bcdb40c02f874c58189",
      "e74c2cb9e39f4f6d946c34c4b02872f1",
      "ec79d381c39147de95e8e9376ea68e19",
      "d86a916a5e234b7f87f6a2d0d0e0df29",
      "91484e2fb4b9460184fa37bfb6b80bfd",
      "0f84fa8836214f949a2b56be3f4a1b61",
      "b5d420e04eb3496a9813943a96c6ecca",
      "2c6c6524257f4413ada64adbcb55c702",
      "03c720f5a7a74feeb0f7a9f8ce7f8336",
      "a89e15ba51104af28738550d44c40ccd",
      "89fcd3b8b2b04708ac162a98197c9c27",
      "1db0e6247927467ba0f8b1e045d3afb7",
      "0f10415656c44231a40e8b412598e4bd",
      "634b5101947842c5af3bde716903a512",
      "9ec0784c660148f48ea94285a286762e",
      "92a27c2cd9474403a21cfe3917001566",
      "be9d46d525ee4dabaac8e3c706c4b45d",
      "c4a8bcd2998d4fa78eeae252ee28a9a2",
      "dca1da9e6dee44e0a5b3cedac96f1aea",
      "260810bd049f4c5ebd99e24a6bcf76ba",
      "bb5ca53731994ee2ad7c972d21cd8355",
      "27629795902241bbb9de06cba4f1c88a",
      "e83279f3a6c04c60b826e4e811490cc3",
      "bed6f78e808145df9aac638bb06d2c7b",
      "7a32eac2f8994f1f94df6f880f08e117",
      "eb39653f251a46c5b851a1fe2bd8faa0",
      "7ec3af7e2c7849298b6b4044d94d384b",
      "8a5a5df8981b48e0956330bf28f0c087",
      "3b37682a347c484cbfcc3c17815be429",
      "8548457986e84ba99726fcd0152e2ac4",
      "aafe6d706b82443986aa78aa8f6e65a5",
      "84f4b63cd881420ca47b5376d1cb8000",
      "7cb6ce1990f642eeafe6d1f84ea210af",
      "50c99b2a665e425fb615eaae368a6536",
      "a24b33ca01e945bc91b1b14e82f3d17e",
      "20c9ea78a44a44acad2c69d0b4dab022",
      "a256067aab16448097a490b52790e68d",
      "e9cca1f4384a4a099e6b18f4b38633de",
      "2f59cdd654494ac9a16ea29514049538",
      "baa13fbac2604fb6b5dafd841010cc88",
      "d38c4eacdb7b4a5799c86244102e70f8",
      "b725f30a118542a88754990e57c34c76",
      "740a16fc3df441c7a0c38b8e3cd4b58b",
      "d65a24c9a7414450b0b22a54d8a0b244",
      "092c70c88fef4c8d8374ec731246d20c",
      "cd20eda72f704bc58dd2862166598c36"
     ]
    },
    "id": "LqEEy4FqXfVM",
    "executionInfo": {
     "status": "ok",
     "timestamp": 1755322486864,
     "user_tz": -330,
     "elapsed": 34012,
     "user": {
      "displayName": "Keerthana K Unni",
      "userId": "08328964662187661859"
     }
    },
    "outputId": "71bb42dd-efdd-414d-9258-99b38240d649"
   },
   "execution_count": 21,
   "outputs": [
    {
     "output_type": "display_data",
     "data": {
      "text/plain": [
       "tokenizer_config.json:   0%|          | 0.00/2.32k [00:00<?, ?B/s]"
      ],
      "application/vnd.jupyter.widget-view+json": {
       "version_major": 2,
       "version_minor": 0,
       "model_id": "f4b699b8d0c44106a203c4abada704fb"
      }
     },
     "metadata": {}
    },
    {
     "output_type": "display_data",
     "data": {
      "text/plain": [
       "spiece.model:   0%|          | 0.00/792k [00:00<?, ?B/s]"
      ],
      "application/vnd.jupyter.widget-view+json": {
       "version_major": 2,
       "version_minor": 0,
       "model_id": "ff6accc7be1a4932bdbcda9da7ec24a7"
      }
     },
     "metadata": {}
    },
    {
     "output_type": "display_data",
     "data": {
      "text/plain": [
       "tokenizer.json:   0%|          | 0.00/1.39M [00:00<?, ?B/s]"
      ],
      "application/vnd.jupyter.widget-view+json": {
       "version_major": 2,
       "version_minor": 0,
       "model_id": "ec79d381c39147de95e8e9376ea68e19"
      }
     },
     "metadata": {}
    },
    {
     "output_type": "display_data",
     "data": {
      "text/plain": [
       "config.json:   0%|          | 0.00/1.21k [00:00<?, ?B/s]"
      ],
      "application/vnd.jupyter.widget-view+json": {
       "version_major": 2,
       "version_minor": 0,
       "model_id": "634b5101947842c5af3bde716903a512"
      }
     },
     "metadata": {}
    },
    {
     "output_type": "display_data",
     "data": {
      "text/plain": [
       "model.safetensors:   0%|          | 0.00/242M [00:00<?, ?B/s]"
      ],
      "application/vnd.jupyter.widget-view+json": {
       "version_major": 2,
       "version_minor": 0,
       "model_id": "7a32eac2f8994f1f94df6f880f08e117"
      }
     },
     "metadata": {}
    },
    {
     "output_type": "display_data",
     "data": {
      "text/plain": [
       "generation_config.json:   0%|          | 0.00/147 [00:00<?, ?B/s]"
      ],
      "application/vnd.jupyter.widget-view+json": {
       "version_major": 2,
       "version_minor": 0,
       "model_id": "20c9ea78a44a44acad2c69d0b4dab022"
      }
     },
     "metadata": {}
    },
    {
     "output_type": "stream",
     "name": "stdout",
     "text": [
      "Quick Hierarchical Transformer-style summary (1 sample, CPU):\n",
      "the kidney went to the next recipient, who was also paired with a donor. he had been waiting on a deceased donor list when a live donor came along.\n",
      "Quick ROUGE result (1 sample, CPU): {'rouge1': np.float64(0.19230769230769232), 'rouge2': np.float64(0.0), 'rougeL': np.float64(0.15384615384615385), 'rougeLsum': np.float64(0.15384615384615385)}\n"
     ]
    }
   ]
  },
  {
   "cell_type": "code",
   "source": [
    "# Install required libraries if needed\n",
    "# !pip install datasets transformers evaluate\n",
    "\n",
    "from datasets import load_dataset\n",
    "from transformers import T5ForConditionalGeneration, T5Tokenizer\n",
    "import evaluate\n",
    "import re\n",
    "\n",
    "# 1️⃣ Load dataset (1 sample)\n",
    "dataset = load_dataset(\"cnn_dailymail\", \"3.0.0\")\n",
    "sample = dataset[\"validation\"][0]\n",
    "\n",
    "# 2️⃣ Split article into parts for \"agents\"\n",
    "# For simplicity, split article into 3 roughly equal chunks\n",
    "sentences = re.split(r'(?<=[.!?]) +', sample[\"article\"])\n",
    "chunks = [sentences[i::3] for i in range(3)]  # 3 agents\n",
    "\n",
    "# 3️⃣ Load lightweight T5 model for CPU summarization\n",
    "model_name = \"t5-small\"  # small model for speed\n",
    "tokenizer = T5Tokenizer.from_pretrained(model_name)\n",
    "model = T5ForConditionalGeneration.from_pretrained(model_name)\n",
    "model.to(\"cpu\")\n",
    "\n",
    "# 4️⃣ Each \"agent\" summarizes its chunk\n",
    "agent_summaries = []\n",
    "for chunk in chunks:\n",
    "    text_chunk = \" \".join(chunk)\n",
    "    inputs = tokenizer(\"summarize: \" + text_chunk, return_tensors=\"pt\", truncation=True, max_length=256)\n",
    "    summary_ids = model.generate(inputs[\"input_ids\"], max_length=40, min_length=10, num_beams=4)\n",
    "    summary_text = tokenizer.decode(summary_ids[0], skip_special_tokens=True)\n",
    "    agent_summaries.append(summary_text)\n",
    "\n",
    "# 5️⃣ Combine agent summaries (simulate communication)\n",
    "final_input = \" \".join(agent_summaries)\n",
    "inputs = tokenizer(\"summarize: \" + final_input, return_tensors=\"pt\", truncation=True, max_length=256)\n",
    "summary_ids = model.generate(inputs[\"input_ids\"], max_length=60, min_length=10, num_beams=4)\n",
    "final_summary = tokenizer.decode(summary_ids[0], skip_special_tokens=True)\n",
    "\n",
    "print(\"Quick DCA-style summary (1 sample, CPU):\")\n",
    "print(final_summary)\n",
    "\n",
    "# 6️⃣ Compute ROUGE\n",
    "rouge = evaluate.load(\"rouge\")\n",
    "results = rouge.compute(predictions=[final_summary], references=[sample[\"highlights\"]])\n",
    "print(\"Quick ROUGE result (1 sample, CPU):\", results)\n"
   ],
   "metadata": {
    "colab": {
     "base_uri": "https://localhost:8080/"
    },
    "id": "VJzDrBKoYHJf",
    "executionInfo": {
     "status": "ok",
     "timestamp": 1755322599746,
     "user_tz": -330,
     "elapsed": 14027,
     "user": {
      "displayName": "Keerthana K Unni",
      "userId": "08328964662187661859"
     }
    },
    "outputId": "5df94642-7afc-4bfb-a933-485c84844df5"
   },
   "execution_count": 22,
   "outputs": [
    {
     "output_type": "stream",
     "name": "stdout",
     "text": [
      "Quick DCA-style summary (1 sample, CPU):\n",
      "the ages of donors and recipients range from 26 to 70. the last donor will give a kidney to someone who has bid time on a donor list. the last donor will give a kidney to someone who has bid time on a donor list.\n",
      "Quick ROUGE result (1 sample, CPU): {'rouge1': np.float64(0.23529411764705882), 'rouge2': np.float64(0.0909090909090909), 'rougeL': np.float64(0.23529411764705882), 'rougeLsum': np.float64(0.23529411764705882)}\n"
     ]
    }
   ]
  },
  {
   "cell_type": "code",
   "source": [
    "!pip install transformers sentencepiece\n"
   ],
   "metadata": {
    "colab": {
     "base_uri": "https://localhost:8080/"
    },
    "id": "gIMdfZV0YgkG",
    "executionInfo": {
     "status": "ok",
     "timestamp": 1755324097912,
     "user_tz": -330,
     "elapsed": 8247,
     "user": {
      "displayName": "Keerthana K Unni",
      "userId": "08328964662187661859"
     }
    },
    "outputId": "44e448db-46a8-4628-dfe8-bb94b130227a"
   },
   "execution_count": 39,
   "outputs": [
    {
     "output_type": "stream",
     "name": "stdout",
     "text": [
      "Requirement already satisfied: transformers in /usr/local/lib/python3.11/dist-packages (4.55.0)\n",
      "Requirement already satisfied: sentencepiece in /usr/local/lib/python3.11/dist-packages (0.2.1)\n",
      "Requirement already satisfied: filelock in /usr/local/lib/python3.11/dist-packages (from transformers) (3.18.0)\n",
      "Requirement already satisfied: huggingface-hub<1.0,>=0.34.0 in /usr/local/lib/python3.11/dist-packages (from transformers) (0.34.4)\n",
      "Requirement already satisfied: numpy>=1.17 in /usr/local/lib/python3.11/dist-packages (from transformers) (2.0.2)\n",
      "Requirement already satisfied: packaging>=20.0 in /usr/local/lib/python3.11/dist-packages (from transformers) (25.0)\n",
      "Requirement already satisfied: pyyaml>=5.1 in /usr/local/lib/python3.11/dist-packages (from transformers) (6.0.2)\n",
      "Requirement already satisfied: regex!=2019.12.17 in /usr/local/lib/python3.11/dist-packages (from transformers) (2024.11.6)\n",
      "Requirement already satisfied: requests in /usr/local/lib/python3.11/dist-packages (from transformers) (2.32.3)\n",
      "Requirement already satisfied: tokenizers<0.22,>=0.21 in /usr/local/lib/python3.11/dist-packages (from transformers) (0.21.4)\n",
      "Requirement already satisfied: safetensors>=0.4.3 in /usr/local/lib/python3.11/dist-packages (from transformers) (0.6.2)\n",
      "Requirement already satisfied: tqdm>=4.27 in /usr/local/lib/python3.11/dist-packages (from transformers) (4.67.1)\n",
      "Requirement already satisfied: fsspec>=2023.5.0 in /usr/local/lib/python3.11/dist-packages (from huggingface-hub<1.0,>=0.34.0->transformers) (2025.3.0)\n",
      "Requirement already satisfied: typing-extensions>=3.7.4.3 in /usr/local/lib/python3.11/dist-packages (from huggingface-hub<1.0,>=0.34.0->transformers) (4.14.1)\n",
      "Requirement already satisfied: hf-xet<2.0.0,>=1.1.3 in /usr/local/lib/python3.11/dist-packages (from huggingface-hub<1.0,>=0.34.0->transformers) (1.1.7)\n",
      "Requirement already satisfied: charset-normalizer<4,>=2 in /usr/local/lib/python3.11/dist-packages (from requests->transformers) (3.4.3)\n",
      "Requirement already satisfied: idna<4,>=2.5 in /usr/local/lib/python3.11/dist-packages (from requests->transformers) (3.10)\n",
      "Requirement already satisfied: urllib3<3,>=1.21.1 in /usr/local/lib/python3.11/dist-packages (from requests->transformers) (2.5.0)\n",
      "Requirement already satisfied: certifi>=2017.4.17 in /usr/local/lib/python3.11/dist-packages (from requests->transformers) (2025.8.3)\n"
     ]
    }
   ]
  },
  {
   "cell_type": "code",
   "source": [
    "from transformers import pipeline\n",
    "\n",
    "article = \"AI can optimize battery thermal management in electric vehicles by predicting hotspots and controlling cooling systems efficiently.\"\n",
    "\n",
    "summarizer = pipeline(\"summarization\", model=\"facebook/bart-large-cnn\")\n",
    "summary = summarizer(article)\n",
    "print(summary[0]['summary_text'])\n"
   ],
   "metadata": {
    "colab": {
     "base_uri": "https://localhost:8080/"
    },
    "id": "FEp9PJTlg0wD",
    "executionInfo": {
     "status": "ok",
     "timestamp": 1755324868441,
     "user_tz": -330,
     "elapsed": 21407,
     "user": {
      "displayName": "Keerthana K Unni",
      "userId": "08328964662187661859"
     }
    },
    "outputId": "45362713-f1bc-42e0-ba9e-65b8d9a16610"
   },
   "execution_count": 52,
   "outputs": [
    {
     "output_type": "stream",
     "name": "stderr",
     "text": [
      "Device set to use cpu\n",
      "Your max_length is set to 142, but your input_length is only 21. Since this is a summarization task, where outputs shorter than the input are typically wanted, you might consider decreasing max_length manually, e.g. summarizer('...', max_length=10)\n"
     ]
    },
    {
     "output_type": "stream",
     "name": "stdout",
     "text": [
      " AI can optimize battery thermal management in electric vehicles by predicting hotspots and controlling cooling systems efficiently. It can also predict hotspots, and control cooling systems to prevent overheating. The technology is being trialled in the U.S. and will be rolled out in other countries soon.\n"
     ]
    }
   ]
  },
  {
   "cell_type": "code",
   "source": [
    "# Simple keyword extraction without nltk\n",
    "def extract_keywords_simple(text):\n",
    "    words = text.lower().split()\n",
    "    stop_words = set([\"the\", \"and\", \"in\", \"of\", \"to\", \"can\", \"by\", \"a\", \"is\"])  # minimal stopwords\n",
    "    keywords = [w for w in words if w not in stop_words]\n",
    "    return keywords[:5]  # top 5 keywords\n",
    "\n",
    "keywords = extract_keywords_simple(article)\n",
    "print(\"Keywords:\", keywords)\n"
   ],
   "metadata": {
    "colab": {
     "base_uri": "https://localhost:8080/"
    },
    "id": "YnB8xfs1hB4s",
    "executionInfo": {
     "status": "ok",
     "timestamp": 1755324885937,
     "user_tz": -330,
     "elapsed": 8,
     "user": {
      "displayName": "Keerthana K Unni",
      "userId": "08328964662187661859"
     }
    },
    "outputId": "860ed90c-1c6e-4fb4-b7ab-2f5dfab18579"
   },
   "execution_count": 53,
   "outputs": [
    {
     "output_type": "stream",
     "name": "stdout",
     "text": [
      "Keywords: ['ai', 'optimize', 'battery', 'thermal', 'management']\n"
     ]
    }
   ]
  },
  {
   "cell_type": "code",
   "source": [
    "# Pretend external knowledge\n",
    "knowledge_snippets = [\n",
    "    \"Thermal management improves battery life and efficiency.\",\n",
    "    \"Overheating damages battery cells and reduces performance.\"\n",
    "]\n",
    "\n",
    "# Combine keywords, knowledge, and article\n",
    "enriched_input = \"Summarize focusing on: \" + \", \".join(keywords) + \". \" \\\n",
    "                 + \" \".join(knowledge_snippets) + \" \" + article\n"
   ],
   "metadata": {
    "id": "lnjs-cbFhFwl",
    "executionInfo": {
     "status": "ok",
     "timestamp": 1755324901742,
     "user_tz": -330,
     "elapsed": 34,
     "user": {
      "displayName": "Keerthana K Unni",
      "userId": "08328964662187661859"
     }
    }
   },
   "execution_count": 54,
   "outputs": []
  },
  {
   "cell_type": "code",
   "source": [
    "summary = summarizer(\n",
    "    enriched_input,\n",
    "    max_length=28,\n",
    "    min_length=15,\n",
    "    do_sample=False\n",
    ")\n",
    "\n",
    "print(\"Summary:\", summary[0]['summary_text'])\n"
   ],
   "metadata": {
    "colab": {
     "base_uri": "https://localhost:8080/"
    },
    "id": "EzcSy0U2hI2g",
    "executionInfo": {
     "status": "ok",
     "timestamp": 1755325074022,
     "user_tz": -330,
     "elapsed": 8252,
     "user": {
      "displayName": "Keerthana K Unni",
      "userId": "08328964662187661859"
     }
    },
    "outputId": "7439d0fa-4c3b-4a23-d463-2a2a50b25f86"
   },
   "execution_count": 56,
   "outputs": [
    {
     "output_type": "stream",
     "name": "stdout",
     "text": [
      "Summary:  AI can optimize battery thermal management in electric vehicles by predicting hotspots and controlling cooling systems efficiently. Overheating damages battery cells\n"
     ]
    }
   ]
  },
  {
   "cell_type": "code",
   "source": [
    "# Install evaluate library if not already\n",
    "!pip install evaluate\n",
    "\n",
    "import evaluate\n",
    "\n",
    "# Load ROUGE\n",
    "rouge = evaluate.load(\"rouge\")\n",
    "\n",
    "# Reference summary\n",
    "reference_summary = [\n",
    "    \"AI optimizes EV battery thermal management by predicting hotspots and controlling cooling to prevent damage to cells.\"\n",
    "]\n",
    "\n",
    "# Generated summary\n",
    "generated_summary = [\n",
    "    \"AI can optimize battery thermal management in electric vehicles by predicting hotspots and controlling cooling systems efficiently. Overheating damages battery cells\"\n",
    "]\n",
    "\n",
    "# Compute ROUGE\n",
    "results = rouge.compute(predictions=generated_summary, references=reference_summary)\n",
    "\n",
    "# Print ROUGE-1, ROUGE-2, ROUGE-L F1 scores\n",
    "for key, value in results.items():\n",
    "    print(f\"{key}: {value:.4f}\")\n"
   ],
   "metadata": {
    "colab": {
     "base_uri": "https://localhost:8080/"
    },
    "id": "pu52SkNmiL7b",
    "executionInfo": {
     "status": "ok",
     "timestamp": 1755325310339,
     "user_tz": -330,
     "elapsed": 10309,
     "user": {
      "displayName": "Keerthana K Unni",
      "userId": "08328964662187661859"
     }
    },
    "outputId": "923902f3-5732-46d5-e40d-8301d2ca7341"
   },
   "execution_count": 59,
   "outputs": [
    {
     "output_type": "stream",
     "name": "stdout",
     "text": [
      "Requirement already satisfied: evaluate in /usr/local/lib/python3.11/dist-packages (0.4.5)\n",
      "Requirement already satisfied: datasets>=2.0.0 in /usr/local/lib/python3.11/dist-packages (from evaluate) (4.0.0)\n",
      "Requirement already satisfied: numpy>=1.17 in /usr/local/lib/python3.11/dist-packages (from evaluate) (2.0.2)\n",
      "Requirement already satisfied: dill in /usr/local/lib/python3.11/dist-packages (from evaluate) (0.3.8)\n",
      "Requirement already satisfied: pandas in /usr/local/lib/python3.11/dist-packages (from evaluate) (2.2.2)\n",
      "Requirement already satisfied: requests>=2.19.0 in /usr/local/lib/python3.11/dist-packages (from evaluate) (2.32.3)\n",
      "Requirement already satisfied: tqdm>=4.62.1 in /usr/local/lib/python3.11/dist-packages (from evaluate) (4.67.1)\n",
      "Requirement already satisfied: xxhash in /usr/local/lib/python3.11/dist-packages (from evaluate) (3.5.0)\n",
      "Requirement already satisfied: multiprocess in /usr/local/lib/python3.11/dist-packages (from evaluate) (0.70.16)\n",
      "Requirement already satisfied: fsspec>=2021.05.0 in /usr/local/lib/python3.11/dist-packages (from fsspec[http]>=2021.05.0->evaluate) (2025.3.0)\n",
      "Requirement already satisfied: huggingface-hub>=0.7.0 in /usr/local/lib/python3.11/dist-packages (from evaluate) (0.34.4)\n",
      "Requirement already satisfied: packaging in /usr/local/lib/python3.11/dist-packages (from evaluate) (25.0)\n",
      "Requirement already satisfied: filelock in /usr/local/lib/python3.11/dist-packages (from datasets>=2.0.0->evaluate) (3.18.0)\n",
      "Requirement already satisfied: pyarrow>=15.0.0 in /usr/local/lib/python3.11/dist-packages (from datasets>=2.0.0->evaluate) (18.1.0)\n",
      "Requirement already satisfied: pyyaml>=5.1 in /usr/local/lib/python3.11/dist-packages (from datasets>=2.0.0->evaluate) (6.0.2)\n",
      "Requirement already satisfied: aiohttp!=4.0.0a0,!=4.0.0a1 in /usr/local/lib/python3.11/dist-packages (from fsspec[http]>=2021.05.0->evaluate) (3.12.15)\n",
      "Requirement already satisfied: typing-extensions>=3.7.4.3 in /usr/local/lib/python3.11/dist-packages (from huggingface-hub>=0.7.0->evaluate) (4.14.1)\n",
      "Requirement already satisfied: hf-xet<2.0.0,>=1.1.3 in /usr/local/lib/python3.11/dist-packages (from huggingface-hub>=0.7.0->evaluate) (1.1.7)\n",
      "Requirement already satisfied: charset-normalizer<4,>=2 in /usr/local/lib/python3.11/dist-packages (from requests>=2.19.0->evaluate) (3.4.3)\n",
      "Requirement already satisfied: idna<4,>=2.5 in /usr/local/lib/python3.11/dist-packages (from requests>=2.19.0->evaluate) (3.10)\n",
      "Requirement already satisfied: urllib3<3,>=1.21.1 in /usr/local/lib/python3.11/dist-packages (from requests>=2.19.0->evaluate) (2.5.0)\n",
      "Requirement already satisfied: certifi>=2017.4.17 in /usr/local/lib/python3.11/dist-packages (from requests>=2.19.0->evaluate) (2025.8.3)\n",
      "Requirement already satisfied: python-dateutil>=2.8.2 in /usr/local/lib/python3.11/dist-packages (from pandas->evaluate) (2.9.0.post0)\n",
      "Requirement already satisfied: pytz>=2020.1 in /usr/local/lib/python3.11/dist-packages (from pandas->evaluate) (2025.2)\n",
      "Requirement already satisfied: tzdata>=2022.7 in /usr/local/lib/python3.11/dist-packages (from pandas->evaluate) (2025.2)\n",
      "Requirement already satisfied: aiohappyeyeballs>=2.5.0 in /usr/local/lib/python3.11/dist-packages (from aiohttp!=4.0.0a0,!=4.0.0a1->fsspec[http]>=2021.05.0->evaluate) (2.6.1)\n",
      "Requirement already satisfied: aiosignal>=1.4.0 in /usr/local/lib/python3.11/dist-packages (from aiohttp!=4.0.0a0,!=4.0.0a1->fsspec[http]>=2021.05.0->evaluate) (1.4.0)\n",
      "Requirement already satisfied: attrs>=17.3.0 in /usr/local/lib/python3.11/dist-packages (from aiohttp!=4.0.0a0,!=4.0.0a1->fsspec[http]>=2021.05.0->evaluate) (25.3.0)\n",
      "Requirement already satisfied: frozenlist>=1.1.1 in /usr/local/lib/python3.11/dist-packages (from aiohttp!=4.0.0a0,!=4.0.0a1->fsspec[http]>=2021.05.0->evaluate) (1.7.0)\n",
      "Requirement already satisfied: multidict<7.0,>=4.5 in /usr/local/lib/python3.11/dist-packages (from aiohttp!=4.0.0a0,!=4.0.0a1->fsspec[http]>=2021.05.0->evaluate) (6.6.4)\n",
      "Requirement already satisfied: propcache>=0.2.0 in /usr/local/lib/python3.11/dist-packages (from aiohttp!=4.0.0a0,!=4.0.0a1->fsspec[http]>=2021.05.0->evaluate) (0.3.2)\n",
      "Requirement already satisfied: yarl<2.0,>=1.17.0 in /usr/local/lib/python3.11/dist-packages (from aiohttp!=4.0.0a0,!=4.0.0a1->fsspec[http]>=2021.05.0->evaluate) (1.20.1)\n",
      "Requirement already satisfied: six>=1.5 in /usr/local/lib/python3.11/dist-packages (from python-dateutil>=2.8.2->pandas->evaluate) (1.17.0)\n",
      "rouge1: 0.5789\n",
      "rouge2: 0.3889\n",
      "rougeL: 0.5789\n",
      "rougeLsum: 0.5789\n"
     ]
    }
   ]
  },
  {
   "cell_type": "code",
   "source": [
    "# Core libs\n",
    "!pip -q install -U \"transformers==4.55.0\" datasets evaluate rouge-score sentencepiece accelerate\n",
    "\n",
    "# For “special” models\n",
    "!pip -q install -U sentence-transformers keybert networkx nltk\n",
    "\n",
    "# (Optional) If you want TextRank keywords instead of KeyBERT:\n",
    "# !pip -q install summa\n"
   ],
   "metadata": {
    "colab": {
     "base_uri": "https://localhost:8080/"
    },
    "id": "gv5ClZ-d3W-j",
    "executionInfo": {
     "status": "ok",
     "timestamp": 1755314458710,
     "user_tz": -330,
     "elapsed": 484972,
     "user": {
      "displayName": "Keerthana K Unni",
      "userId": "08328964662187661859"
     }
    },
    "outputId": "c543295a-470b-4ad3-8883-02b44cb9df87"
   },
   "execution_count": 4,
   "outputs": [
    {
     "output_type": "stream",
     "name": "stdout",
     "text": [
      "  Preparing metadata (setup.py) ... \u001b[?25l\u001b[?25hdone\n",
      "\u001b[2K   \u001b[90m━━━━━━━━━━━━━━━━━━━━━━━━━━━━━━━━━━━━━━━━\u001b[0m \u001b[32m11.3/11.3 MB\u001b[0m \u001b[31m55.1 MB/s\u001b[0m eta \u001b[36m0:00:00\u001b[0m\n",
      "\u001b[2K   \u001b[90m━━━━━━━━━━━━━━━━━━━━━━━━━━━━━━━━━━━━━━━━\u001b[0m \u001b[32m84.1/84.1 kB\u001b[0m \u001b[31m5.5 MB/s\u001b[0m eta \u001b[36m0:00:00\u001b[0m\n",
      "\u001b[2K   \u001b[90m━━━━━━━━━━━━━━━━━━━━━━━━━━━━━━━━━━━━━━━\u001b[0m \u001b[32m363.4/363.4 MB\u001b[0m \u001b[31m496.6 kB/s\u001b[0m eta \u001b[36m0:00:00\u001b[0m\n",
      "\u001b[2K   \u001b[90m━━━━━━━━━━━━━━━━━━━━━━━━━━━━━━━━━━━━━━━━\u001b[0m \u001b[32m13.8/13.8 MB\u001b[0m \u001b[31m46.6 MB/s\u001b[0m eta \u001b[36m0:00:00\u001b[0m\n",
      "\u001b[2K   \u001b[90m━━━━━━━━━━━━━━━━━━━━━━━━━━━━━━━━━━━━━━━━\u001b[0m \u001b[32m24.6/24.6 MB\u001b[0m \u001b[31m32.4 MB/s\u001b[0m eta \u001b[36m0:00:00\u001b[0m\n",
      "\u001b[2K   \u001b[90m━━━━━━━━━━━━━━━━━━━━━━━━━━━━━━━━━━━━━━━━\u001b[0m \u001b[32m883.7/883.7 kB\u001b[0m \u001b[31m40.3 MB/s\u001b[0m eta \u001b[36m0:00:00\u001b[0m\n",
      "\u001b[2K   \u001b[90m━━━━━━━━━━━━━━━━━━━━━━━━━━━━━━━━━━━━━━━\u001b[0m \u001b[32m664.8/664.8 MB\u001b[0m \u001b[31m271.1 kB/s\u001b[0m eta \u001b[36m0:00:00\u001b[0m\n",
      "\u001b[2K   \u001b[90m━━━━━━━━━━━━━━━━━━━━━━━━━━━━━━━━━━━━━━━━\u001b[0m \u001b[32m211.5/211.5 MB\u001b[0m \u001b[31m1.5 MB/s\u001b[0m eta \u001b[36m0:00:00\u001b[0m\n",
      "\u001b[2K   \u001b[90m━━━━━━━━━━━━━━━━━━━━━━━━━━━━━━━━━━━━━━━━\u001b[0m \u001b[32m56.3/56.3 MB\u001b[0m \u001b[31m2.0 MB/s\u001b[0m eta \u001b[36m0:00:00\u001b[0m\n",
      "\u001b[2K   \u001b[90m━━━━━━━━━━━━━━━━━━━━━━━━━━━━━━━━━━━━━━━━\u001b[0m \u001b[32m127.9/127.9 MB\u001b[0m \u001b[31m1.5 MB/s\u001b[0m eta \u001b[36m0:00:00\u001b[0m\n",
      "\u001b[2K   \u001b[90m━━━━━━━━━━━━━━━━━━━━━━━━━━━━━━━━━━━━━━━\u001b[0m \u001b[32m207.5/207.5 MB\u001b[0m \u001b[31m829.9 kB/s\u001b[0m eta \u001b[36m0:00:00\u001b[0m\n",
      "\u001b[2K   \u001b[90m━━━━━━━━━━━━━━━━━━━━━━━━━━━━━━━━━━━━━━━\u001b[0m \u001b[32m188.7/188.7 MB\u001b[0m \u001b[31m793.4 kB/s\u001b[0m eta \u001b[36m0:00:00\u001b[0m\n",
      "\u001b[2K   \u001b[90m━━━━━━━━━━━━━━━━━━━━━━━━━━━━━━━━━━━━━━━━\u001b[0m \u001b[32m21.1/21.1 MB\u001b[0m \u001b[31m36.1 MB/s\u001b[0m eta \u001b[36m0:00:00\u001b[0m\n",
      "\u001b[?25h  Building wheel for rouge-score (setup.py) ... \u001b[?25l\u001b[?25hdone\n",
      "\u001b[2K   \u001b[90m━━━━━━━━━━━━━━━━━━━━━━━━━━━━━━━━━━━━━━━━\u001b[0m \u001b[32m41.4/41.4 kB\u001b[0m \u001b[31m1.5 MB/s\u001b[0m eta \u001b[36m0:00:00\u001b[0m\n",
      "\u001b[?25h"
     ]
    }
   ]
  },
  {
   "cell_type": "code",
   "source": [
    "import os, math, random, gc\n",
    "import torch\n",
    "from torch import nn\n",
    "from datasets import load_dataset\n",
    "from transformers import (\n",
    "    AutoTokenizer, AutoModelForSeq2SeqLM,\n",
    "    DataCollatorForSeq2Seq, Seq2SeqTrainer, Seq2SeqTrainingArguments\n",
    ")\n",
    "import evaluate\n",
    "from sentence_transformers import SentenceTransformer, util\n",
    "import networkx as nx\n",
    "from keybert import KeyBERT\n",
    "import nltk\n",
    "nltk.download(\"punkt\", quiet=True)\n",
    "from nltk.tokenize import sent_tokenize\n",
    "\n",
    "DEVICE = \"cpu\"  # keep CPU-safe\n",
    "\n",
    "# ---------- Dataset ----------\n",
    "ds = load_dataset(\"cnn_dailymail\", \"3.0.0\")\n",
    "# Fields are 'article', 'highlights'\n",
    "def pick_small(ds, n_train=800, n_val=200, n_test=200):\n",
    "    return {\n",
    "        \"train\": ds[\"train\"].shuffle(seed=42).select(range(n_train)),\n",
    "        \"val\": ds[\"validation\"].shuffle(seed=42).select(range(n_val)),\n",
    "        \"test\": ds[\"test\"].shuffle(seed=42).select(range(n_test)),\n",
    "    }\n",
    "small = pick_small(ds)\n",
    "\n",
    "# ---------- ROUGE ----------\n",
    "rouge = evaluate.load(\"rouge\")\n",
    "\n",
    "def compute_rouge(preds, refs):\n",
    "    res = rouge.compute(predictions=preds, references=refs, use_stemmer=True)\n",
    "    return {k: round(100*res[k], 2) for k in (\"rouge1\",\"rouge2\",\"rougeL\")}\n",
    "\n",
    "# ---------- Fast evaluate loop (generation) ----------\n",
    "@torch.no_grad()\n",
    "def quick_generate(model, tok, docs, max_in=768, max_out=96, bs=4, prefix=None):\n",
    "    model.eval()\n",
    "    outs = []\n",
    "    for i in range(0, len(docs), bs):\n",
    "        batch_docs = [((prefix or \"\") + d) if prefix else d for d in docs[i:i+bs]]\n",
    "        enc = tok(batch_docs, max_length=max_in, truncation=True, padding=True, return_tensors=\"pt\")\n",
    "        for k in enc: enc[k] = enc[k].to(model.device)\n",
    "        gen_ids = model.generate(**enc, max_length=max_out, num_beams=4, early_stopping=True)\n",
    "        outs.extend(tok.batch_decode(gen_ids, skip_special_tokens=True))\n",
    "    return outs\n"
   ],
   "metadata": {
    "colab": {
     "base_uri": "https://localhost:8080/",
     "height": 477,
     "referenced_widgets": [
      "a9e0acaaca434d1d83ce05d30950f5e5",
      "60427715a42a4f5e89b04a3fd9825bad",
      "96870b5801364d8c9c744cb7259c65d5",
      "3c3cedebc19b4074b6bdd3f07e6d47af",
      "7ebabd88dd454d80b209301150e3388f",
      "a3d0ff23ef4d4cba8868bf39e589881b",
      "7507458916134fd78de83c9bc7d2955a",
      "c6353f3f18e3468d942564635d3df8d5",
      "ab50c5510bab43688dc8003f076542aa",
      "a8e5fe0ef6b74362b416e3e7552b7eeb",
      "07fce6db0e854beab1af74e397593486",
      "859a834063db472b92b8ab96029b3dc0",
      "770c8572fa3d47ccb5c233c5f875d817",
      "ef2dfd849c814e419ab67c6de196357e",
      "31a552bb6b7643f08f3fa11bf7d3121b",
      "b5091b81a3ec4b8eb41ec60363547789",
      "8c76a183e7924ca0b674db3e4c18a715",
      "4640d91f6af84ca8847e45582ea6e9bf",
      "058d94fe75f64aab9030f4018d3e3ae7",
      "dc2772c8f16042e58f971803553aacac",
      "64801c0b5a9741dd9faabe080b342c55",
      "607231465bcb47b98d8b3ca6fdf4d998",
      "9095a7308f4a49fb9fd9487ef570ec18",
      "45de6f04ab634cb7a26e2555f8f6c912",
      "44d038aac3614befbd835d403e3f6cbf",
      "e67dbdec04cf4464a8fa8bfa0f26c8f3",
      "1e207849ae4e429e81659125a35ba3b2",
      "49803f78717246b284f659cc43e111cf",
      "3712baa01ec24520b1d85907636f028d",
      "0e6cf8d3197e43d4b2ebd60052a34ce5",
      "eb2a452ee5fd4748b1cd828552872a4f",
      "fb32ed01363b44d7aa347b358eb3e821",
      "f9327639227d4e859b5125e4fd587f75",
      "1becc39b4a834c858d49cd6ff83da7b0",
      "b5386f8d709040f1aff226389ad5698f",
      "7cd48ac4465449b5a53bb4dd45bd83e3",
      "10a2af014a044d6fb62399a57f380e70",
      "3652a3d476294e9e8bb62fd5efe03399",
      "c22d4f86810546a487d032f513953412",
      "e82ef38b4b0a49eb9d135419ad870cdd",
      "e57c8fac53a34f24ba0aeec7783c6551",
      "3fde7a3a6ac5462abe0e2cc631ed904a",
      "fb09109927cc451981e608a530cef611",
      "804beaa6cd694a7ba7dbbf82ec665065",
      "8cc66dc0147b44e1acbd0bb21e6b1f3d",
      "2fcb3a01aa4a4e08aa77c04238651e77",
      "e4b547eb913d42dd8a64e97f492e8953",
      "326a640264594b27ad14d338f687f095",
      "4708ba67de584e9196e9f77e9d339518",
      "e2db9212be3348258fdc5a9e747e5b52",
      "9e87dee810e74a14965c705356d8654e",
      "1bd6538396024ff29174b6dc87b179ee",
      "a3d2fb9f32284f0a9db91ece07a53d7a",
      "9b03ef0763e84f96a008c769a47f6698",
      "88a55e2a143d4dcc8dcee10a4858f2c9",
      "7f101799de7e4d1cafef67a8257ae640",
      "14e63e7c9544495b8a0a9bbaea895065",
      "30b2615e1ccd43a8973b1c920127fe5f",
      "1e479baa91de43f99b56201f16e43385",
      "7b8c1f732e814e30bec4687fac3e8d8c",
      "f724ad346cb64ba3977d68064f336747",
      "a231feb8d04d4a5ba1242a71bfb9d4bd",
      "e34c98eb68be4ddd81334c74df24e8eb",
      "bebb459499554dc9bf137d749420a903",
      "be20bc4a7ae14647a2b0b1ad3756e7fa",
      "322b9b35f0fc4919a73e9f4782d6732d",
      "72c2b52680984a818b19e8b964546d91",
      "b9147dced7a24d55bbf90f791478d4c5",
      "9ebb583dcdde4166b4506ed673f3d2d2",
      "4d81a51f81cf420fbc49177f42791504",
      "1e2279a1c917445999c635a22c89b530",
      "c55eccddfede40c59db6653457322ae5",
      "1dd43726cdf741829e9d567b84371b27",
      "ae1ac91127874eef8dbb89a7dcf43c1d",
      "5dac50f8af984436bd0e62c49e2160dd",
      "6c8c477aa2a242638485874550ecf8aa",
      "2300ccd2f21e4624884ae7ba2b4b69e5",
      "810e3f97c76f46ae863b9fd7debb39be",
      "43cf5f1385084104a5fb0703ff681e46",
      "0437768e73c04111860da1220830e7ab",
      "c345e2be42d04da1b30d042ecfca9cf7",
      "6e1190bd8f42466ebbfc156fdea15570",
      "5b5aa07c2b7c41108db0c912d2486bd1",
      "ed505efb2199448b92a39043347bdeef",
      "fcd8ee6a27d741bf80f4a7bbc064790f",
      "c2cd3d717fc441b7a21541b3a52c362d",
      "e0a3814bcbce4fef8ab0a949e6778acf",
      "8b7b95287b5b4e20b62c5d1f2329d9dc",
      "6b1297360cc34c79b3f12a8613e1ae9b",
      "a6bab82a8d1742f3aa0443ec2b3ccde4",
      "e41ea18e78e146288a99973b965be17f",
      "8ece176d671543d7a52a8d2d38611a02",
      "f2d459bdc81348d6917fb44198c8d04d",
      "5fd6dbe76f3342e9a9b1ce8d707b2a08",
      "ec996b0fca7049479643718c4e9aeecd",
      "485f8e788f3f4b0f8fdbad47471489bb",
      "b84de08e7af14ef5be31d56f441dad2f",
      "0127c207a61d4d598387332d5a2f9995",
      "c81ce80f4f16409dba17b11d1cb4dcbd",
      "a71e10f9d7fc4aa489ba83aa225b3431",
      "5ac8771113194a36b9229a672b12ca91",
      "c43b6acc416840bb8fb1c3991d73847e",
      "48d8b386c5f74d44a11b51acabb4777d",
      "f9bbc400155f4673ba215c3ff19cd0f6",
      "16e256e5baa142fda61879795d1e8b73",
      "0ed830e3c29a45449ec5d1f773b2a830",
      "b9262008441140fdb471b0d695796489",
      "5e984d37afa94c3fa39c5aed65b40418",
      "ea249210d3b6489c82118da488cd3eb5",
      "78c8706c1197492dba1e3d626c6e8578"
     ]
    },
    "id": "jb6nDupY59rs",
    "executionInfo": {
     "status": "ok",
     "timestamp": 1755314731719,
     "user_tz": -330,
     "elapsed": 80469,
     "user": {
      "displayName": "Keerthana K Unni",
      "userId": "08328964662187661859"
     }
    },
    "outputId": "028f2e56-fb16-41e6-8c33-d738999b2632"
   },
   "execution_count": 5,
   "outputs": [
    {
     "output_type": "display_data",
     "data": {
      "text/plain": [
       "README.md: 0.00B [00:00, ?B/s]"
      ],
      "application/vnd.jupyter.widget-view+json": {
       "version_major": 2,
       "version_minor": 0,
       "model_id": "a9e0acaaca434d1d83ce05d30950f5e5"
      }
     },
     "metadata": {}
    },
    {
     "output_type": "display_data",
     "data": {
      "text/plain": [
       "train-00000-of-00003.parquet:   0%|          | 0.00/257M [00:00<?, ?B/s]"
      ],
      "application/vnd.jupyter.widget-view+json": {
       "version_major": 2,
       "version_minor": 0,
       "model_id": "859a834063db472b92b8ab96029b3dc0"
      }
     },
     "metadata": {}
    },
    {
     "output_type": "display_data",
     "data": {
      "text/plain": [
       "train-00001-of-00003.parquet:   0%|          | 0.00/257M [00:00<?, ?B/s]"
      ],
      "application/vnd.jupyter.widget-view+json": {
       "version_major": 2,
       "version_minor": 0,
       "model_id": "9095a7308f4a49fb9fd9487ef570ec18"
      }
     },
     "metadata": {}
    },
    {
     "output_type": "display_data",
     "data": {
      "text/plain": [
       "train-00002-of-00003.parquet:   0%|          | 0.00/259M [00:00<?, ?B/s]"
      ],
      "application/vnd.jupyter.widget-view+json": {
       "version_major": 2,
       "version_minor": 0,
       "model_id": "1becc39b4a834c858d49cd6ff83da7b0"
      }
     },
     "metadata": {}
    },
    {
     "output_type": "display_data",
     "data": {
      "text/plain": [
       "validation-00000-of-00001.parquet:   0%|          | 0.00/34.7M [00:00<?, ?B/s]"
      ],
      "application/vnd.jupyter.widget-view+json": {
       "version_major": 2,
       "version_minor": 0,
       "model_id": "8cc66dc0147b44e1acbd0bb21e6b1f3d"
      }
     },
     "metadata": {}
    },
    {
     "output_type": "display_data",
     "data": {
      "text/plain": [
       "test-00000-of-00001.parquet:   0%|          | 0.00/30.0M [00:00<?, ?B/s]"
      ],
      "application/vnd.jupyter.widget-view+json": {
       "version_major": 2,
       "version_minor": 0,
       "model_id": "7f101799de7e4d1cafef67a8257ae640"
      }
     },
     "metadata": {}
    },
    {
     "output_type": "display_data",
     "data": {
      "text/plain": [
       "Generating train split:   0%|          | 0/287113 [00:00<?, ? examples/s]"
      ],
      "application/vnd.jupyter.widget-view+json": {
       "version_major": 2,
       "version_minor": 0,
       "model_id": "72c2b52680984a818b19e8b964546d91"
      }
     },
     "metadata": {}
    },
    {
     "output_type": "display_data",
     "data": {
      "text/plain": [
       "Generating validation split:   0%|          | 0/13368 [00:00<?, ? examples/s]"
      ],
      "application/vnd.jupyter.widget-view+json": {
       "version_major": 2,
       "version_minor": 0,
       "model_id": "810e3f97c76f46ae863b9fd7debb39be"
      }
     },
     "metadata": {}
    },
    {
     "output_type": "display_data",
     "data": {
      "text/plain": [
       "Generating test split:   0%|          | 0/11490 [00:00<?, ? examples/s]"
      ],
      "application/vnd.jupyter.widget-view+json": {
       "version_major": 2,
       "version_minor": 0,
       "model_id": "6b1297360cc34c79b3f12a8613e1ae9b"
      }
     },
     "metadata": {}
    },
    {
     "output_type": "display_data",
     "data": {
      "text/plain": [
       "Downloading builder script: 0.00B [00:00, ?B/s]"
      ],
      "application/vnd.jupyter.widget-view+json": {
       "version_major": 2,
       "version_minor": 0,
       "model_id": "a71e10f9d7fc4aa489ba83aa225b3431"
      }
     },
     "metadata": {}
    }
   ]
  },
  {
   "cell_type": "code",
   "source": [
    "\n",
    "from datasets import load_dataset\n",
    "from transformers import AutoTokenizer, AutoModelForSeq2SeqLM, pipeline\n",
    "import evaluate\n",
    "\n",
    "# 1. Load dataset (CNN/DailyMail)\n",
    "dataset = load_dataset(\"cnn_dailymail\", \"3.0.0\")\n",
    "\n",
    "# 2. Take a tiny subset (3 samples for quick test)\n",
    "tiny_eval_dataset = dataset[\"validation\"].select(range(3))\n",
    "\n",
    "# 3. Load PRIMERA model + tokenizer\n",
    "model_name = \"allenai/PRIMERA-multinews\"\n",
    "tokenizer = AutoTokenizer.from_pretrained(model_name)\n",
    "model = AutoModelForSeq2SeqLM.from_pretrained(model_name)\n",
    "\n",
    "# 4. Summarization pipeline\n",
    "summarizer = pipeline(\"summarization\", model=model, tokenizer=tokenizer)\n",
    "\n",
    "# 5. Run on small subset\n",
    "predictions, references = [], []\n",
    "for sample in tiny_eval_dataset:\n",
    "    pred = summarizer(\n",
    "        sample[\"article\"],\n",
    "        max_length=60,\n",
    "        min_length=10,\n",
    "        truncation=True,  # truncate to fit model max length\n",
    "        do_sample=False\n",
    "    )[0][\"summary_text\"]\n",
    "\n",
    "    predictions.append(pred)\n",
    "    references.append(sample[\"highlights\"])\n",
    "\n",
    "# 6. Compute ROUGE\n",
    "rouge = evaluate.load(\"rouge\")\n",
    "results = rouge.compute(predictions=predictions, references=references)\n",
    "\n",
    "print(\"Quick ROUGE results with PRIMERA (3 samples):\", results)\n"
   ],
   "metadata": {
    "colab": {
     "base_uri": "https://localhost:8080/",
     "height": 176
    },
    "id": "6SZ7s8Jx8eGD",
    "executionInfo": {
     "status": "ok",
     "timestamp": 1755315880720,
     "user_tz": -330,
     "elapsed": 407909,
     "user": {
      "displayName": "Keerthana K Unni",
      "userId": "08328964662187661859"
     }
    },
    "outputId": "06869342-ea9f-43ce-eced-f51edfd50cce"
   },
   "execution_count": 7,
   "outputs": [
    {
     "output_type": "stream",
     "name": "stderr",
     "text": [
      "Device set to use cpu\n",
      "Input ids are automatically padded from 931 to 1024 to be a multiple of `config.attention_window`: 512\n",
      "Both `max_new_tokens` (=256) and `max_length`(=60) seem to have been set. `max_new_tokens` will take precedence. Please refer to the documentation for more information. (https://huggingface.co/docs/transformers/main/en/main_classes/text_generation)\n",
      "Input ids are automatically padded from 1583 to 2048 to be a multiple of `config.attention_window`: 512\n",
      "Both `max_new_tokens` (=256) and `max_length`(=60) seem to have been set. `max_new_tokens` will take precedence. Please refer to the documentation for more information. (https://huggingface.co/docs/transformers/main/en/main_classes/text_generation)\n",
      "Input ids are automatically padded from 547 to 1024 to be a multiple of `config.attention_window`: 512\n",
      "Both `max_new_tokens` (=256) and `max_length`(=60) seem to have been set. `max_new_tokens` will take precedence. Please refer to the documentation for more information. (https://huggingface.co/docs/transformers/main/en/main_classes/text_generation)\n"
     ]
    },
    {
     "output_type": "stream",
     "name": "stdout",
     "text": [
      "Quick ROUGE results with PRIMERA (3 samples): {'rouge1': np.float64(0.17437378020055186), 'rouge2': np.float64(0.051290103103574604), 'rougeL': np.float64(0.12103304394642977), 'rougeLsum': np.float64(0.14512147520021534)}\n"
     ]
    }
   ]
  },
  {
   "cell_type": "code",
   "source": [
    "import matplotlib.pyplot as plt\n",
    "import numpy as np\n",
    "\n",
    "# ROUGE scores per model (replace with your numbers)\n",
    "models = [\n",
    "    \"PRIMERA\", \"BART\", \"T5-large\", \"LongT5\",\n",
    "    \"Absformer\", \"TGmultisum\", \"PEGASUS\", \"T5-base\",\n",
    "    \"Hierarchical\", \"DCA\", \"Knowledge-enhanced\"\n",
    "]\n",
    "\n",
    "rouge1 = [0.1744, 0.2583, 0.4091, 0.0870, 0.0, 0.1429, 0.2805, 0.3338, 0.1923, 0.2353, 0.5789]\n",
    "rouge2 = [0.0513, 0.0760, 0.2381, 0.0, 0.0, 0.0, 0.0672, 0.1192, 0.0, 0.0909, 0.3889]\n",
    "rougeL = [0.1210, 0.2084, 0.4091, 0.0870, 0.0, 0.1429, 0.1974, 0.2473, 0.1538, 0.2353, 0.5789]\n",
    "\n",
    "x = np.arange(len(models))  # label locations\n",
    "width = 0.25  # width of bars\n",
    "\n",
    "fig, ax = plt.subplots(figsize=(15,6))\n",
    "rects1 = ax.bar(x - width, rouge1, width, label='ROUGE-1')\n",
    "rects2 = ax.bar(x, rouge2, width, label='ROUGE-2')\n",
    "rects3 = ax.bar(x + width, rougeL, width, label='ROUGE-L')\n",
    "\n",
    "# Add labels, title, and custom x-axis tick labels\n",
    "ax.set_ylabel('ROUGE Scores')\n",
    "ax.set_title('ROUGE Scores by Model')\n",
    "ax.set_xticks(x)\n",
    "ax.set_xticklabels(models, rotation=45, ha='right')\n",
    "ax.legend()\n",
    "\n",
    "# Optional: add score labels on top of bars\n",
    "def add_labels(rects):\n",
    "    for rect in rects:\n",
    "        height = rect.get_height()\n",
    "        ax.annotate(f'{height:.2f}',\n",
    "                    xy=(rect.get_x() + rect.get_width() / 2, height),\n",
    "                    xytext=(0, 3),\n",
    "                    textcoords=\"offset points\",\n",
    "                    ha='center', va='bottom')\n",
    "\n",
    "add_labels(rects1)\n",
    "add_labels(rects2)\n",
    "add_labels(rects3)\n",
    "\n",
    "plt.tight_layout()\n",
    "plt.savefig(\"/content/PHT-WikiSum-Summarization/results/rouge_comparison1.png\")\n",
    "plt.show()\n",
    "\n"
   ],
   "metadata": {
    "colab": {
     "base_uri": "https://localhost:8080/",
     "height": 282
    },
    "id": "j-5jVyfboelN",
    "executionInfo": {
     "status": "ok",
     "timestamp": 1755331325871,
     "user_tz": -330,
     "elapsed": 931,
     "user": {
      "displayName": "Keerthana K Unni",
      "userId": "08328964662187661859"
     }
    },
    "outputId": "6276e4fd-0fbe-41c3-af53-53821d580b29"
   },
   "execution_count": 24,
   "outputs": [
    {
     "output_type": "display_data",
     "data": {
      "text/plain": [
       "<Figure size 1500x600 with 1 Axes>"
      ],
      "image/png": "[encoded data removed]"
     },
     "metadata": {}
    }
   ]
  },
  {
   "cell_type": "code",
   "source": [
    "from google.colab import files\n",
    "files.upload()  # upload kaggle.json here\n"
   ],
   "metadata": {
    "colab": {
     "base_uri": "https://localhost:8080/",
     "height": 108
    },
    "id": "nTZnNUJQxGai",
    "executionInfo": {
     "status": "ok",
     "timestamp": 1755329106894,
     "user_tz": -330,
     "elapsed": 6747,
     "user": {
      "displayName": "Keerthana K Unni",
      "userId": "08328964662187661859"
     }
    },
    "outputId": "1a48ed48-6131-41f1-d556-a3a2ca45f693"
   },
   "execution_count": 7,
   "outputs": [
    {
     "output_type": "display_data",
     "data": {
      "text/plain": [
       "<IPython.core.display.HTML object>"
      ],
      "text/html": [
       "\n",
       "     <input type=\"file\" id=\"files-9ab52de3-8b7a-4da3-bb5d-1a3e52357f56\" name=\"files[]\" multiple disabled\n",
       "        style=\"border:none\" />\n",
       "     <output id=\"result-9ab52de3-8b7a-4da3-bb5d-1a3e52357f56\">\n",
       "      Upload widget is only available when the cell has been executed in the\n",
       "      current browser session. Please rerun this cell to enable.\n",
       "      </output>\n",
       "      <script>// Copyright 2017 Google LLC\n",
       "//\n",
       "// Licensed under the Apache License, Version 2.0 (the \"License\");\n",
       "// you may not use this file except in compliance with the License.\n",
       "// You may obtain a copy of the License at\n",
       "//\n",
       "//      http://www.apache.org/licenses/LICENSE-2.0\n",
       "//\n",
       "// Unless required by applicable law or agreed to in writing, software\n",
       "// distributed under the License is distributed on an \"AS IS\" BASIS,\n",
       "// WITHOUT WARRANTIES OR CONDITIONS OF ANY KIND, either express or implied.\n",
       "// See the License for the specific language governing permissions and\n",
       "// limitations under the License.\n",
       "\n",
       "/**\n",
       " * @fileoverview Helpers for google.colab Python module.\n",
       " */\n",
       "(function(scope) {\n",
       "function span(text, styleAttributes = {}) {\n",
       "  const element = document.createElement('span');\n",
       "  element.textContent = text;\n",
       "  for (const key of Object.keys(styleAttributes)) {\n",
       "    element.style[key] = styleAttributes[key];\n",
       "  }\n",
       "  return element;\n",
       "}\n",
       "\n",
       "// Max number of bytes which will be uploaded at a time.\n",
       "const MAX_PAYLOAD_SIZE = 100 * 1024;\n",
       "\n",
       "function _uploadFiles(inputId, outputId) {\n",
       "  const steps = uploadFilesStep(inputId, outputId);\n",
       "  const outputElement = document.getElementById(outputId);\n",
       "  // Cache steps on the outputElement to make it available for the next call\n",
       "  // to uploadFilesContinue from Python.\n",
       "  outputElement.steps = steps;\n",
       "\n",
       "  return _uploadFilesContinue(outputId);\n",
       "}\n",
       "\n",
       "// This is roughly an async generator (not supported in the browser yet),\n",
       "// where there are multiple asynchronous steps and the Python side is going\n",
       "// to poll for completion of each step.\n",
       "// This uses a Promise to block the python side on completion of each step,\n",
       "// then passes the result of the previous step as the input to the next step.\n",
       "function _uploadFilesContinue(outputId) {\n",
       "  const outputElement = document.getElementById(outputId);\n",
       "  const steps = outputElement.steps;\n",
       "\n",
       "  const next = steps.next(outputElement.lastPromiseValue);\n",
       "  return Promise.resolve(next.value.promise).then((value) => {\n",
       "    // Cache the last promise value to make it available to the next\n",
       "    // step of the generator.\n",
       "    outputElement.lastPromiseValue = value;\n",
       "    return next.value.response;\n",
       "  });\n",
       "}\n",
       "\n",
       "/**\n",
       " * Generator function which is called between each async step of the upload\n",
       " * process.\n",
       " * @param {string} inputId Element ID of the input file picker element.\n",
       " * @param {string} outputId Element ID of the output display.\n",
       " * @return {!Iterable<!Object>} Iterable of next steps.\n",
       " */\n",
       "function* uploadFilesStep(inputId, outputId) {\n",
       "  const inputElement = document.getElementById(inputId);\n",
       "  inputElement.disabled = false;\n",
       "\n",
       "  const outputElement = document.getElementById(outputId);\n",
       "  outputElement.innerHTML = '';\n",
       "\n",
       "  const pickedPromise = new Promise((resolve) => {\n",
       "    inputElement.addEventListener('change', (e) => {\n",
       "      resolve(e.target.files);\n",
       "    });\n",
       "  });\n",
       "\n",
       "  const cancel = document.createElement('button');\n",
       "  inputElement.parentElement.appendChild(cancel);\n",
       "  cancel.textContent = 'Cancel upload';\n",
       "  const cancelPromise = new Promise((resolve) => {\n",
       "    cancel.onclick = () => {\n",
       "      resolve(null);\n",
       "    };\n",
       "  });\n",
       "\n",
       "  // Wait for the user to pick the files.\n",
       "  const files = yield {\n",
       "    promise: Promise.race([pickedPromise, cancelPromise]),\n",
       "    response: {\n",
       "      action: 'starting',\n",
       "    }\n",
       "  };\n",
       "\n",
       "  cancel.remove();\n",
       "\n",
       "  // Disable the input element since further picks are not allowed.\n",
       "  inputElement.disabled = true;\n",
       "\n",
       "  if (!files) {\n",
       "    return {\n",
       "      response: {\n",
       "        action: 'complete',\n",
       "      }\n",
       "    };\n",
       "  }\n",
       "\n",
       "  for (const file of files) {\n",
       "    const li = document.createElement('li');\n",
       "    li.append(span(file.name, {fontWeight: 'bold'}));\n",
       "    li.append(span(\n",
       "        `(${file.type || 'n/a'}) - ${file.size} bytes, ` +\n",
       "        `last modified: ${\n",
       "            file.lastModifiedDate ? file.lastModifiedDate.toLocaleDateString() :\n",
       "                                    'n/a'} - `));\n",
       "    const percent = span('0% done');\n",
       "    li.appendChild(percent);\n",
       "\n",
       "    outputElement.appendChild(li);\n",
       "\n",
       "    const fileDataPromise = new Promise((resolve) => {\n",
       "      const reader = new FileReader();\n",
       "      reader.onload = (e) => {\n",
       "        resolve(e.target.result);\n",
       "      };\n",
       "      reader.readAsArrayBuffer(file);\n",
       "    });\n",
       "    // Wait for the data to be ready.\n",
       "    let fileData = yield {\n",
       "      promise: fileDataPromise,\n",
       "      response: {\n",
       "        action: 'continue',\n",
       "      }\n",
       "    };\n",
       "\n",
       "    // Use a chunked sending to avoid message size limits. See b/62115660.\n",
       "    let position = 0;\n",
       "    do {\n",
       "      const length = Math.min(fileData.byteLength - position, MAX_PAYLOAD_SIZE);\n",
       "      const chunk = new Uint8Array(fileData, position, length);\n",
       "      position += length;\n",
       "\n",
       "      const base64 = btoa(String.fromCharCode.apply(null, chunk));\n",
       "      yield {\n",
       "        response: {\n",
       "          action: 'append',\n",
       "          file: file.name,\n",
       "          data: base64,\n",
       "        },\n",
       "      };\n",
       "\n",
       "      let percentDone = fileData.byteLength === 0 ?\n",
       "          100 :\n",
       "          Math.round((position / fileData.byteLength) * 100);\n",
       "      percent.textContent = `${percentDone}% done`;\n",
       "\n",
       "    } while (position < fileData.byteLength);\n",
       "  }\n",
       "\n",
       "  // All done.\n",
       "  yield {\n",
       "    response: {\n",
       "      action: 'complete',\n",
       "    }\n",
       "  };\n",
       "}\n",
       "\n",
       "scope.google = scope.google || {};\n",
       "scope.google.colab = scope.google.colab || {};\n",
       "scope.google.colab._files = {\n",
       "  _uploadFiles,\n",
       "  _uploadFilesContinue,\n",
       "};\n",
       "})(self);\n",
       "</script> "
      ]
     },
     "metadata": {}
    },
    {
     "output_type": "stream",
     "name": "stdout",
     "text": [
      "Saving kaggle.json to kaggle.json\n"
     ]
    },
    {
     "output_type": "execute_result",
     "data": {
      "text/plain": [
       "{'kaggle.json': b'{\"username\":\"keerthanakunni\",\"key\":\"63d7bed3d4ab0f108ab5b48b15556399\"}'}"
      ]
     },
     "metadata": {},
     "execution_count": 7
    }
   ]
  },
  {
   "cell_type": "code",
   "source": [
    "!mkdir -p ~/.kaggle\n",
    "!cp kaggle.json ~/.kaggle/\n",
    "!chmod 600 ~/.kaggle/kaggle.json\n"
   ],
   "metadata": {
    "id": "kiGGnibExLNA",
    "executionInfo": {
     "status": "ok",
     "timestamp": 1755329131535,
     "user_tz": -330,
     "elapsed": 351,
     "user": {
      "displayName": "Keerthana K Unni",
      "userId": "08328964662187661859"
     }
    }
   },
   "execution_count": 8,
   "outputs": []
  },
  {
   "cell_type": "code",
   "source": [
    "!kaggle datasets download -d sandeep16064/wikisum\n",
    "!unzip wikisum.zip -d wikisum\n"
   ],
   "metadata": {
    "colab": {
     "base_uri": "https://localhost:8080/"
    },
    "id": "yM2_xVR6xRbY",
    "executionInfo": {
     "status": "ok",
     "timestamp": 1755329167904,
     "user_tz": -330,
     "elapsed": 24523,
     "user": {
      "displayName": "Keerthana K Unni",
      "userId": "08328964662187661859"
     }
    },
    "outputId": "5dc2a501-c265-46f9-9047-884e0dba7cf3"
   },
   "execution_count": 9,
   "outputs": [
    {
     "output_type": "stream",
     "name": "stdout",
     "text": [
      "Dataset URL: https://www.kaggle.com/datasets/sandeep16064/wikisum\n",
      "License(s): unknown\n",
      "Downloading wikisum.zip to /content\n",
      " 85% 93.0M/109M [00:00<00:00, 163MB/s]\n",
      "100% 109M/109M [00:02<00:00, 39.4MB/s]\n",
      "Archive:  wikisum.zip\n",
      "  inflating: wikisum/WikiSumDataset.jsonl  \n"
     ]
    }
   ]
  },
  {
   "cell_type": "code",
   "source": [
    "import pandas as pd\n",
    "\n",
    "# Load JSONL file\n",
    "df = pd.read_json(\"wikisum/WikiSumDataset.jsonl\", lines=True)\n",
    "\n",
    "# Check the first few rows\n",
    "print(df.head())\n"
   ],
   "metadata": {
    "colab": {
     "base_uri": "https://localhost:8080/"
    },
    "id": "XPxcB0tvxYt2",
    "executionInfo": {
     "status": "ok",
     "timestamp": 1755329306330,
     "user_tz": -330,
     "elapsed": 4468,
     "user": {
      "displayName": "Keerthana K Unni",
      "userId": "08328964662187661859"
     }
    },
    "outputId": "c75a670a-f55a-4f36-ad75-32a65ac74b4e"
   },
   "execution_count": 11,
   "outputs": [
    {
     "output_type": "stream",
     "name": "stdout",
     "text": [
      "                                                 url  \\\n",
      "0        https://www.wikihow.com/Store-Fresh-Oysters   \n",
      "1  https://www.wikihow.com/Tell-if-a-Rolex-Watch-...   \n",
      "2     https://www.wikihow.com/Ship-a-Bicycle-Cheaply   \n",
      "3                https://www.wikihow.com/Seal-Pavers   \n",
      "4  https://www.wikihow.com/Handle-an-Emergency-Si...   \n",
      "\n",
      "                                          title  \\\n",
      "0                    How to Store Fresh Oysters   \n",
      "1  How to Tell if a Rolex Watch is Real or Fake   \n",
      "2                 How to Ship a Bicycle Cheaply   \n",
      "3                            How to Seal Pavers   \n",
      "4          How to Handle an Emergency Situation   \n",
      "\n",
      "                                             summary  \\\n",
      "0  To store fresh oysters, start by placing un-sh...   \n",
      "1  To tell if a Rolex is real or fake, hold it ne...   \n",
      "2  To cheaply ship a bicycle, completely disassem...   \n",
      "3  Sealing your pavers with a commercial sealant ...   \n",
      "4  To handle an emergency situation, start by cal...   \n",
      "\n",
      "                                             article  \\\n",
      "0  Do not shuck or wash your oysters. Oysters tas...   \n",
      "1  Listen for the telltale \"tick, tick, tick\" rat...   \n",
      "2  Use an Allen key to unscrew the handlebars fro...   \n",
      "3  Choose a water-based sealer if your pavers are...   \n",
      "4  Remain calm. Although emergencies require rapi...   \n",
      "\n",
      "                                        step_headers   fold  \n",
      "0  Do not shuck or wash your oysters. Pour ice in...  train  \n",
      "1  Listen for the telltale \"tick, tick, tick\" rat...  train  \n",
      "2  Use an Allen key to unscrew the handlebars fro...  train  \n",
      "3  Choose a water-based sealer if your pavers are...  train  \n",
      "4  Remain calm. Seek additional help. Determine t...  train  \n"
     ]
    }
   ]
  },
  {
   "cell_type": "code",
   "source": [
    "from datasets import Dataset\n",
    "\n",
    "hf_dataset = Dataset.from_pandas(df)\n",
    "print(hf_dataset)\n"
   ],
   "metadata": {
    "colab": {
     "base_uri": "https://localhost:8080/"
    },
    "id": "XRZdNStVyAGC",
    "executionInfo": {
     "status": "ok",
     "timestamp": 1755329339172,
     "user_tz": -330,
     "elapsed": 4733,
     "user": {
      "displayName": "Keerthana K Unni",
      "userId": "08328964662187661859"
     }
    },
    "outputId": "557914a1-21d1-43f4-cf48-128e35071a05"
   },
   "execution_count": 12,
   "outputs": [
    {
     "output_type": "stream",
     "name": "stdout",
     "text": [
      "Dataset({\n",
      "    features: ['url', 'title', 'summary', 'article', 'step_headers', 'fold'],\n",
      "    num_rows: 39775\n",
      "})\n"
     ]
    }
   ]
  },
  {
   "cell_type": "code",
   "source": [
    "small_dataset = hf_dataset.shuffle(seed=42).select(range(1000))  # CPU-friendly subset\n"
   ],
   "metadata": {
    "id": "atG2y94oyEHM",
    "executionInfo": {
     "status": "ok",
     "timestamp": 1755329350918,
     "user_tz": -330,
     "elapsed": 141,
     "user": {
      "displayName": "Keerthana K Unni",
      "userId": "08328964662187661859"
     }
    }
   },
   "execution_count": 13,
   "outputs": []
  },
  {
   "cell_type": "code",
   "source": [
    "from transformers import AutoTokenizer\n",
    "from datasets import Dataset\n",
    "\n",
    "# Example: using a small subset\n",
    "small_dataset = Dataset.from_pandas(df.head(100))  # first 100 rows for speed\n",
    "\n",
    "# Load tokenizer\n",
    "tokenizer = AutoTokenizer.from_pretrained(\"bert-base-uncased\")\n",
    "\n",
    "# Adjust column name, e.g., \"article\"\n",
    "def tokenize_function(examples):\n",
    "    return tokenizer(examples[\"article\"], padding=\"max_length\", truncation=True, max_length=512)\n",
    "\n",
    "tokenized_dataset = small_dataset.map(tokenize_function, batched=True)\n",
    "print(tokenized_dataset)\n"
   ],
   "metadata": {
    "colab": {
     "base_uri": "https://localhost:8080/",
     "height": 138,
     "referenced_widgets": [
      "badcc6a1ea14470aac63e3efa95b940e",
      "0d424023d2ba4b6091c58d7ad560ce46",
      "ee83a0aec1c24c87ad7281581ff6ecb7",
      "cd51b2bb1ab944cf842bbd44d6846387",
      "29f32c836afd41d788d82860f8cdc33b",
      "4aea1f4b8270488ca71ef60255609d7c",
      "926688b4e96343fb864d24a6685e102b",
      "ed3e9e05ca93429eab5908ab9034e21e",
      "b85328b1caef43ae8ba109d5d0398019",
      "ed4778e3e7774c4197bc5411b3ce4902",
      "5522cca60f404513b15cce8bf8cb787e"
     ]
    },
    "id": "Te_5ttbgyG6Q",
    "executionInfo": {
     "status": "ok",
     "timestamp": 1755329413620,
     "user_tz": -330,
     "elapsed": 1467,
     "user": {
      "displayName": "Keerthana K Unni",
      "userId": "08328964662187661859"
     }
    },
    "outputId": "6fa8d217-1205-478f-9869-1a5e94aee166"
   },
   "execution_count": 15,
   "outputs": [
    {
     "output_type": "display_data",
     "data": {
      "text/plain": [
       "Map:   0%|          | 0/100 [00:00<?, ? examples/s]"
      ],
      "application/vnd.jupyter.widget-view+json": {
       "version_major": 2,
       "version_minor": 0,
       "model_id": "badcc6a1ea14470aac63e3efa95b940e"
      }
     },
     "metadata": {}
    },
    {
     "output_type": "stream",
     "name": "stdout",
     "text": [
      "Dataset({\n",
      "    features: ['url', 'title', 'summary', 'article', 'step_headers', 'fold', 'input_ids', 'token_type_ids', 'attention_mask'],\n",
      "    num_rows: 100\n",
      "})\n"
     ]
    }
   ]
  },
  {
   "cell_type": "code",
   "source": [
    "from rouge_score import rouge_scorer\n",
    "import numpy as np\n",
    "\n",
    "# Example: assume you already have predictions from your model\n",
    "# Let's take first 10 samples to speed up evaluation\n",
    "references = small_dataset[:10][\"summary\"]   # adjust column name if needed\n",
    "predictions = [\n",
    "    \"AI optimizes battery thermal management by controlling cooling systems.\"  # example preds\n",
    "    for _ in range(10)\n",
    "]\n",
    "\n",
    "# Initialize ROUGE scorer\n",
    "scorer = rouge_scorer.RougeScorer([\"rouge1\", \"rouge2\", \"rougeL\"], use_stemmer=True)\n",
    "\n",
    "# Calculate scores\n",
    "rouge_scores = {\"rouge1\": [], \"rouge2\": [], \"rougeL\": []}\n",
    "for ref, pred in zip(references, predictions):\n",
    "    scores = scorer.score(ref, pred)\n",
    "    for key in rouge_scores:\n",
    "        rouge_scores[key].append(scores[key].fmeasure)\n",
    "\n",
    "# Average ROUGE values\n",
    "avg_scores = {k: np.mean(v) for k, v in rouge_scores.items()}\n",
    "print(\"Quick ROUGE (CPU, small subset):\")\n",
    "for k, v in avg_scores.items():\n",
    "    print(f\"{k}: {v:.4f}\")\n"
   ],
   "metadata": {
    "colab": {
     "base_uri": "https://localhost:8080/"
    },
    "id": "hQ9-TnUcyni1",
    "executionInfo": {
     "status": "ok",
     "timestamp": 1755329496719,
     "user_tz": -330,
     "elapsed": 85,
     "user": {
      "displayName": "Keerthana K Unni",
      "userId": "08328964662187661859"
     }
    },
    "outputId": "8ca9488c-bd9f-4142-c16e-143bf99bdbc0"
   },
   "execution_count": 16,
   "outputs": [
    {
     "output_type": "stream",
     "name": "stdout",
     "text": [
      "Quick ROUGE (CPU, small subset):\n",
      "rouge1: 0.0155\n",
      "rouge2: 0.0000\n",
      "rougeL: 0.0155\n"
     ]
    }
   ]
  },
  {
   "cell_type": "code",
   "source": [
    "import matplotlib.pyplot as plt\n",
    "import numpy as np\n",
    "\n",
    "# ROUGE values for all models (example: using your previous results)\n",
    "models = [\n",
    "    \"PRIMERA\", \"BART\", \"T5-large\", \"LongT5\",\n",
    "    \"Absformer\", \"TGmultisum\", \"Pegasus\", \"T5-base\",\n",
    "    \"Hierarchical Transformer\", \"DCA\", \"External Knowledge\", \"PHT\"\n",
    "]\n",
    "\n",
    "# ROUGE-1\n",
    "rouge1 = [\n",
    "    0.1744, 0.2583, 0.4091, 0.0870,\n",
    "    0.0, 0.1429, 0.2805, 0.3338,\n",
    "    0.1923, 0.2353, 0.5789, 0.0155\n",
    "]\n",
    "\n",
    "# ROUGE-2\n",
    "rouge2 = [\n",
    "    0.0513, 0.0760, 0.2381, 0.0,\n",
    "    0.0, 0.0, 0.0672, 0.1192,\n",
    "    0.0, 0.0909, 0.3889, 0.0\n",
    "]\n",
    "\n",
    "# ROUGE-L\n",
    "rougeL = [\n",
    "    0.1210, 0.2084, 0.4091, 0.0870,\n",
    "    0.0, 0.1429, 0.1974, 0.2473,\n",
    "    0.1538, 0.2353, 0.5789, 0.0155\n",
    "]\n",
    "\n",
    "x = np.arange(len(models))\n",
    "width = 0.25\n",
    "\n",
    "fig, ax = plt.subplots(figsize=(14,6))\n",
    "rects1 = ax.bar(x - width, rouge1, width, label='ROUGE-1')\n",
    "rects2 = ax.bar(x, rouge2, width, label='ROUGE-2')\n",
    "rects3 = ax.bar(x + width, rougeL, width, label='ROUGE-L')\n",
    "\n",
    "ax.set_ylabel('ROUGE Scores')\n",
    "ax.set_title('ROUGE Comparison Across Models')\n",
    "ax.set_xticks(x)\n",
    "ax.set_xticklabels(models, rotation=45, ha='right')\n",
    "ax.legend()\n",
    "\n",
    "# Optional: display values on top of bars\n",
    "for rects in [rects1, rects2, rects3]:\n",
    "    for rect in rects:\n",
    "        height = rect.get_height()\n",
    "        ax.annotate(f'{height:.2f}',\n",
    "                    xy=(rect.get_x() + rect.get_width() / 2, height),\n",
    "                    xytext=(0, 3),\n",
    "                    textcoords=\"offset points\",\n",
    "                    ha='center', va='bottom')\n",
    "\n",
    "plt.tight_layout()\n",
    "plt.savefig(\"/content/PHT-WikiSum-Summarization/results/rouge_comparison2.png\")\n",
    "plt.show()\n",
    "\n"
   ],
   "metadata": {
    "colab": {
     "base_uri": "https://localhost:8080/",
     "height": 301
    },
    "id": "uAD-0nuIzaBW",
    "executionInfo": {
     "status": "ok",
     "timestamp": 1755331355474,
     "user_tz": -330,
     "elapsed": 1046,
     "user": {
      "displayName": "Keerthana K Unni",
      "userId": "08328964662187661859"
     }
    },
    "outputId": "24016d54-f42a-48bd-9f34-3afc6ecddd69"
   },
   "execution_count": 25,
   "outputs": [
    {
     "output_type": "display_data",
     "data": {
      "text/plain": [
       "<Figure size 1400x600 with 1 Axes>"
      ],
      "image/png": "[encoded data removed]"
     },
     "metadata": {}
    }
   ]
  },
  {
   "cell_type": "code",
   "source": [
    "import pandas as pd\n",
    "\n",
    "# ROUGE values for all models\n",
    "data = {\n",
    "    \"Model\": [\n",
    "        \"PRIMERA\", \"BART\", \"T5-large\", \"LongT5\",\n",
    "        \"Absformer\", \"TGmultisum\", \"Pegasus\", \"T5-base\",\n",
    "        \"Hierarchical Transformer\", \"DCA\", \"External Knowledge\", \"PHT\"\n",
    "    ],\n",
    "    \"ROUGE-1\": [\n",
    "        0.1744, 0.2583, 0.4091, 0.0870,\n",
    "        0.0, 0.1429, 0.2805, 0.3338,\n",
    "        0.1923, 0.2353, 0.5789, 0.0155\n",
    "    ],\n",
    "    \"ROUGE-2\": [\n",
    "        0.0513, 0.0760, 0.2381, 0.0,\n",
    "        0.0, 0.0, 0.0672, 0.1192,\n",
    "        0.0, 0.0909, 0.3889, 0.0\n",
    "    ],\n",
    "    \"ROUGE-L\": [\n",
    "        0.1210, 0.2084, 0.4091, 0.0870,\n",
    "        0.0, 0.1429, 0.1974, 0.2473,\n",
    "        0.1538, 0.2353, 0.5789, 0.0155\n",
    "    ]\n",
    "}\n",
    "\n",
    "# Create DataFrame\n",
    "df = pd.DataFrame(data)\n",
    "\n",
    "# Display table\n",
    "print(df)\n"
   ],
   "metadata": {
    "colab": {
     "base_uri": "https://localhost:8080/"
    },
    "id": "STRlLqPDz_vL",
    "executionInfo": {
     "status": "ok",
     "timestamp": 1755329857691,
     "user_tz": -330,
     "elapsed": 208,
     "user": {
      "displayName": "Keerthana K Unni",
      "userId": "08328964662187661859"
     }
    },
    "outputId": "72c88c3c-f8a1-44b2-8354-2b0ef7da5909"
   },
   "execution_count": 18,
   "outputs": [
    {
     "output_type": "stream",
     "name": "stdout",
     "text": [
      "                       Model  ROUGE-1  ROUGE-2  ROUGE-L\n",
      "0                    PRIMERA   0.1744   0.0513   0.1210\n",
      "1                       BART   0.2583   0.0760   0.2084\n",
      "2                   T5-large   0.4091   0.2381   0.4091\n",
      "3                     LongT5   0.0870   0.0000   0.0870\n",
      "4                  Absformer   0.0000   0.0000   0.0000\n",
      "5                 TGmultisum   0.1429   0.0000   0.1429\n",
      "6                    Pegasus   0.2805   0.0672   0.1974\n",
      "7                    T5-base   0.3338   0.1192   0.2473\n",
      "8   Hierarchical Transformer   0.1923   0.0000   0.1538\n",
      "9                        DCA   0.2353   0.0909   0.2353\n",
      "10        External Knowledge   0.5789   0.3889   0.5789\n",
      "11                       PHT   0.0155   0.0000   0.0155\n"
     ]
    }
   ]
  }
 ]
}